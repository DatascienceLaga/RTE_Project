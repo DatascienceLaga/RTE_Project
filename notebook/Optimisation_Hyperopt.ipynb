{
 "cells": [
  {
   "cell_type": "markdown",
   "metadata": {},
   "source": [
    "# Optimisation des paramètres de simulation avec Hyperopt"
   ]
  },
  {
   "cell_type": "markdown",
   "metadata": {},
   "source": [
    "**Contexte:**\n",
    "    \n",
    "Dans ce notebook, nous cherchons à produire des Time-Series de simulation qui se rapproche un maximum des Time-Series de réference.\n",
    "Pour ce faire, nous utilisons la méthode d'optimisation Hyperopt pour trouver la combinaison de paramètres pour le modèle simplifié qui se rapproche du modèle de réference.\n",
    "\n",
    "Hyperopt prend l'espace de recherche que l'on lui fournit, utilisé un algorithme de suggestion pour décider des paramètres qu'il souhaite évaluer et enfin Hyperopt utilise une fonction objectif et cherche à minimiser cette fonction objectif.\n",
    "\n",
    "Les fonctions objectifs utilisable avec Hyperopt sont les fonctions objectifs qui sont minimisables"
   ]
  },
  {
   "cell_type": "markdown",
   "metadata": {},
   "source": [
    "## Importation des données"
   ]
  },
  {
   "cell_type": "markdown",
   "metadata": {},
   "source": [
    "Nous importons les dépendances nécessaires pour faire fonctionner le notebook"
   ]
  },
  {
   "cell_type": "code",
   "execution_count": 1,
   "metadata": {},
   "outputs": [],
   "source": [
    "\n",
    "import sys\n",
    "sys.path.append(\"..\")\n",
    "import yaml\n",
    "import numpy as np\n",
    "import pandas as pd\n",
    "\n",
    "from sklearn.metrics import r2_score, mean_squared_error,mean_absolute_error\n",
    "from hyperopt import hp, fmin, tpe\n",
    "\n",
    "from uvsw_part.simulation import run_cable_wakeosc\n",
    "\n",
    "import matplotlib.pyplot as plt\n",
    "import math"
   ]
  },
  {
   "cell_type": "markdown",
   "metadata": {},
   "source": [
    "## Définition du chemin vers le fichier Liste*.txt et de le numéro de la Time-Series de réference utilisé"
   ]
  },
  {
   "cell_type": "markdown",
   "metadata": {},
   "source": [
    "Le chemin vers le fichier Liste* permet de récuperer les paramètres de base des Time-Series de référence, l'index permet de choisir sur quelle Time-series nous allons travailler (commence à 0)"
   ]
  },
  {
   "cell_type": "code",
   "execution_count": 2,
   "metadata": {},
   "outputs": [],
   "source": [
    "# Path to list of time series\n",
    "LIST_PATH = \"../data/params/List1.txt\"\n",
    "# Index of time series to simulate\n",
    "TS_INDEX = 5"
   ]
  },
  {
   "cell_type": "markdown",
   "metadata": {},
   "source": [
    "## Chargement de la Time-Series de reférence"
   ]
  },
  {
   "cell_type": "markdown",
   "metadata": {},
   "source": [
    "Ici, nous chargeons le fichier Liste utilisé ainsi que la Time-Series de réference auquel nous allons comparé la simulation"
   ]
  },
  {
   "cell_type": "code",
   "execution_count": 3,
   "metadata": {},
   "outputs": [],
   "source": [
    "# Recupération du numéro de fichier Liste\n",
    "LIST_REF = LIST_PATH[-9:-4].lower()\n",
    "\n",
    "# Read table of time series\n",
    "data_list = pd.read_csv(LIST_PATH , delim_whitespace=True)\n",
    "# Get parameters of selected time series\n",
    "set_params = data_list.iloc[TS_INDEX,:]\n",
    "# Get dataframe of data of corresponding TS\n",
    "\n",
    "#Chargement de la time-series de référence\n",
    "ref = pd.read_csv(\"../data/ref/\"+ LIST_REF + \"/graph{}.csv\".format(set_params[\"nc\"]))"
   ]
  },
  {
   "cell_type": "code",
   "execution_count": 4,
   "metadata": {},
   "outputs": [
    {
     "data": {
      "text/plain": [
       "nc                    6\n",
       "md                    1\n",
       "U[m/s]            1.265\n",
       "d[m]              0.025\n",
       "m[kg/m]            1.57\n",
       "L[m]                  1\n",
       "H[N]                500\n",
       "Nt                10000\n",
       "Dt[s]            0.0004\n",
       "tf[s]               4.0\n",
       "ymax[m]        0.000003\n",
       "filename    Data1.6.bin\n",
       "Name: 5, dtype: object"
      ]
     },
     "execution_count": 4,
     "metadata": {},
     "output_type": "execute_result"
    }
   ],
   "source": [
    "# Show params of selected TS\n",
    "set_params"
   ]
  },
  {
   "cell_type": "code",
   "execution_count": 5,
   "metadata": {},
   "outputs": [],
   "source": [
    "#Définition de paramètres permettant d'obtenir des Time-Series de simulation de même longueur que les Time-Series de réference\n",
    "tf_val = set_params[\"tf[s]\"]\n",
    "dt_val = tf_val / len(ref)\n",
    "dr_val = tf_val / len(ref)"
   ]
  },
  {
   "cell_type": "markdown",
   "metadata": {},
   "source": [
    "## Définition de l'espace de recherche d'Hyperopt"
   ]
  },
  {
   "cell_type": "markdown",
   "metadata": {},
   "source": [
    "Ici nous définissons les plages de paramètres qui seront explorées par Hyperopt afin de trouver une combinaison de paramètres pour la simulation qui se rapproche de la réference"
   ]
  },
  {
   "cell_type": "code",
   "execution_count": 6,
   "metadata": {},
   "outputs": [],
   "source": [
    "search_space = {\n",
    "    'cable': {\n",
    "        'type': 'None',\n",
    "        'length': 1.0,\n",
    "        'tension': hp.uniform('tension_val',100.0,40000.0),\n",
    "        'h': hp.uniform('h_val',0.0,1000.0)},\n",
    "    'conductor': {'m': 1.57, 'd': 0.025, 'EA': 0.0},\n",
    "    'simulation': {'ns': 101,\n",
    "        'tf': tf_val,\n",
    "        'dt': dt_val,\n",
    "        'dr': dr_val,\n",
    "        'si': 99,\n",
    "        'pp': False}, ####### Enlever les prints\n",
    "    'wakeosc': {'u': hp.uniform('u_val',0.05,7.00),\n",
    "        'st': 0.235,\n",
    "        'cl0': 0.6,\n",
    "        'eps': 0.3,\n",
    "        'al': 0.1,\n",
    "        'bt': 0.0,\n",
    "        'gm': 0.0,\n",
    "        'md': 1,\n",
    "        'y0': 0.0,\n",
    "        'q0': 0.05}\n",
    "}"
   ]
  },
  {
   "cell_type": "markdown",
   "metadata": {},
   "source": [
    "## Calcul du taux de couverture"
   ]
  },
  {
   "cell_type": "markdown",
   "metadata": {},
   "source": [
    "Nous calculons une métrique permettant de connaître le taux de valeurs issus simulation comprise à l'intérieur de la time-series de réference pour chaque timesteps. Nous comparons le signe de la valeur issu de la réference et de la reference pour chaque temps, et nous comparons si la simulation a une amplitude absolue inférieur à celle de réference."
   ]
  },
  {
   "cell_type": "code",
   "execution_count": 12,
   "metadata": {},
   "outputs": [],
   "source": [
    "def t_couverture (ref,dfy):\n",
    "    \"\"\"\n",
    "    Vérification si les valeurs de reference et simulation ont le même signe un par un\n",
    "    Si même signe, opérations appropriées pour voir si l'amplitude de la simulation négative ou positive est bien contenue dans la reference\n",
    "    Arguments :\n",
    "    ref (pandas.core.series.Series) (numpy.ndarray) : Modèle de reférence\n",
    "    dfy (numpy.ndarray)                             : Modèle simplifié genéré par le simulateur\n",
    "    \n",
    "    \n",
    "    Sortie :\n",
    "        Taux de couverture des données (float): Pourcentage de valeurs de la simulation \n",
    "        à l'intérieur de la réference   \n",
    "    \"\"\"\n",
    "    same_sign = 0 # Nombres de même signe dans reference et simulation (pris 1 par 1)\n",
    "    diff_sign = 0 # Nombres de signes différents dans reference et simulation (pris 1 par 1)\n",
    "    couverture = 0 # Nombres de même signe ET avec la ref qui couvre la simulation\n",
    "    \n",
    "    ref_taille = len(ref) # Nombre total de valeurs dans ref et sim\n",
    "    \n",
    "    \n",
    "    for i in range(0,ref_taille):\n",
    "        if(np.sign(ref[i]) == np.sign(dfy[i])): #Si la reference et la sim sont du même signe\n",
    "            same_sign = same_sign + 1\n",
    "\n",
    "\n",
    "            if(ref[i] < 0): # Quand la reference < 0\n",
    "                if(ref[i] - dfy[i] < 0):\n",
    "                    couverture = couverture + 1\n",
    "                \n",
    "\n",
    "            if(ref[i] > 0): # Quand la reference > 0\n",
    "                if(ref[i] - dfy[i] > 0):\n",
    "                    couverture = couverture + 1\n",
    "\n",
    "            if(ref[i] == 0): # Quand la reference = 0\n",
    "                if(ref[i] - dfy[i] == 0):\n",
    "                    couverture = couverture + 1\n",
    "\n",
    "            if(math.isnan(ref[i]) and math.isnan(dfy[i]) == True): # Quand la reference = NaN\n",
    "                couverture = couverture + 1             \n",
    "            \n",
    "        else :\n",
    "            diff_sign = diff_sign + 1 # Si ce n'est pas le même signe\n",
    "            \n",
    "\n",
    "    taux_couverture = (couverture / ref_taille) * 100 # Calcul du taux en pourcentage\n",
    "    return taux_couverture"
   ]
  },
  {
   "cell_type": "markdown",
   "metadata": {},
   "source": [
    "## Définition des fonctions objectifs utilisés"
   ]
  },
  {
   "cell_type": "markdown",
   "metadata": {},
   "source": [
    "Ici, nous définissons les fonctions objectifs qui sont utilisés avec Hyperopt dans l'objectif de récuperer des combinaison de paramètres se rapprochant du modèle de réference.\n",
    "Les fonctions objectifs calculent des métriques qui sont utilisés pour évaluer la similarité entre la Time-Series de simulation et celle de réference.\n",
    "Les métriques obtenu doivent être minimisés par Hyperopt"
   ]
  },
  {
   "cell_type": "markdown",
   "metadata": {},
   "source": [
    "## Fonction Objectif : Root Mean Squared Error (RMSE)"
   ]
  },
  {
   "cell_type": "markdown",
   "metadata": {},
   "source": [
    "La fontion objectif utilisé ici utilise une métrique basé sur le RMSE"
   ]
  },
  {
   "cell_type": "code",
   "execution_count": 13,
   "metadata": {},
   "outputs": [],
   "source": [
    "def rmse_sim(cfg):\n",
    "    \"\"\"\n",
    "\n",
    "    Fonction permettant de calculer une fonction objectif basé sur le RMSE et d'afficher les graphes pour chaque itération d'hyperopt\n",
    "    \n",
    "    Arguments : Espace de recherche (search_space)\n",
    "    \n",
    "    Sortie : Score (float) :calculé avec la fonction coût (RMSE)\n",
    "             Plot avec les valeurs proposées par Hyperopt et métriques\n",
    "    \n",
    "    \"\"\"\n",
    "    # Run simulation\n",
    "    dfy, _ = run_cable_wakeosc(cfg)\n",
    "    print(\"yes\")\n",
    "    # Current config\n",
    "    print(\"#\"*100)\n",
    "    print(\"Current parameters:\")\n",
    "    print(\"\\tU value: {}, \\n\\tH value: {}, \\n\\tTension value: {}, \\n\\tcl0 value: {}, \\n\\teps value: {}\".format(\n",
    "        cfg['wakeosc']['u'],\n",
    "        cfg['cable']['h'],\n",
    "        cfg['cable']['tension'],\n",
    "        cfg['wakeosc']['cl0'],\n",
    "        cfg['wakeosc']['eps'])\n",
    "    )\n",
    "    print(\"#\"*100)\n",
    "    \n",
    "    # Calculate score\n",
    "    score = np.sqrt(mean_squared_error(ref['y/d'],(dfy['s=0.250']/0.025).values[:-1]))\n",
    "    \n",
    "    # Score saved in string for the plot\n",
    "    score_text = \"RMSE = %s \" % score\n",
    "\n",
    "    # Plot graphics\n",
    "    plt.figure(figsize = (20,5))\n",
    "    plt.plot(ref['time'], ref['y/d'], label = \"Signal de reference\")\n",
    "    plt.plot(dfy.index, dfy['s=0.250']/0.025, label = \"Signal du simulateur\")\n",
    "    plt.xlabel('time (s)')\n",
    "    plt.ylabel('y/d')\n",
    "    \n",
    "    # Plot score and parameters\n",
    "    plt.figtext(0.5, -0.05, score_text, ha=\"center\", fontsize=18, bbox={\"facecolor\":\"orange\", \"alpha\":0.5, \"pad\":5})\n",
    "    plt.figtext(0.5, -0.20, \"h = '{0}', tension = '{1}', u = '{2}', clo = '{3}', eps = '{4}', st = '{5}' \".format(cfg['cable']['h'],\n",
    "                                                                                                                  cfg['cable']['tension'],cfg['wakeosc']['u'],cfg[\"wakeosc\"][\"cl0\"],\n",
    "                                                                                                                  cfg[\"wakeosc\"][\"eps\"],cfg[\"wakeosc\"][\"st\"]), ha=\"center\", fontsize=18, bbox={\"facecolor\":\"orange\", \"alpha\":0.5, \"pad\":5})\n",
    "    title = \"Comparaison du signal de simulation avec les valeurs de paramètres fournis par HYPEROPT avec le signal de reference, Fonction objectif utilisée : RMSE\"\n",
    "    plt.title(title,fontsize=18)\n",
    "\n",
    "\n",
    "    plt.legend()\n",
    "    plt.show() \n",
    "\n",
    "    \n",
    "    print(\"#\"*40)\n",
    "    print(\"Current scores:\")\n",
    "    print(\"\\tR2 : {}\".format(r2_score(ref['y/d'],(dfy['s=0.250']/0.025).values[:-1])))\n",
    "    print(\"\\tMSE : {}\".format(mean_squared_error(ref['y/d'],(dfy['s=0.250']/0.025).values[:-1])))\n",
    "    print(\"#\"*40)\n",
    "    # Delete the simulation\n",
    "    del dfy\n",
    "    # Return the score\n",
    "    return score"
   ]
  },
  {
   "cell_type": "markdown",
   "metadata": {},
   "source": [
    "## Fonction objectif : basé sur le R2 SCORE"
   ]
  },
  {
   "cell_type": "markdown",
   "metadata": {},
   "source": [
    "La fonction objectif définie ici est une fonction basé sur le R2_SCORE. Afin d'avoir une formule qui peut être minimisé par Hyperopt, la formule de calcul est définie par 1.0 - R2_SCORE"
   ]
  },
  {
   "cell_type": "code",
   "execution_count": 14,
   "metadata": {},
   "outputs": [],
   "source": [
    "def r2_sim(cfg):\n",
    "    \n",
    "    \"\"\"\n",
    "\n",
    "    Fonction permettant de calculer la fonction coût et d'afficher les graphes pour chaque itération d'hyperopt \n",
    "    Arguments : Espace de recherche (search_space)\n",
    "    \n",
    "    Sortie : Score calculé avec la fonction coût (1 - R2_score)\n",
    "            Plot avec les valeurs proposées par Hyperopt et métriques\n",
    "    \n",
    "    \"\"\"\n",
    "    # Run simulation\n",
    "    dfy, _ = run_cable_wakeosc(cfg)\n",
    "    print(\"yes\")\n",
    "    # Current config\n",
    "    print(\"#\"*100)\n",
    "    print(\"Current parameters:\")\n",
    "    print(\"\\tU value: {}, \\n\\tH value: {}, \\n\\tTension value: {}, \\n\\tcl0 value: {}, \\n\\teps value: {}\".format(\n",
    "        cfg['wakeosc']['u'],\n",
    "        cfg['cable']['h'],\n",
    "        cfg['cable']['tension'],\n",
    "        cfg['wakeosc']['cl0'],\n",
    "        cfg['wakeosc']['eps'])\n",
    "    )\n",
    "    print(\"#\"*100)\n",
    "    \n",
    "    # Calculate score\n",
    "    score = 1.0 - r2_score(ref['y/d'],(dfy['s=0.250']/0.025).values[:-1])\n",
    "    taux_couverture = t_couverture(ref['y/d'],(dfy['s=0.250']/0.025).values[:-1])\n",
    "    r2 = r2_score(ref['y/d'],(dfy['s=0.250']/0.025).values[:-1])\n",
    "    \n",
    "    # Store score in a string for visualisation purpose\n",
    "    score_text = \"Score (1 - R2) = %s \" % score\n",
    "    r2_text = \"R2 = %s \" % r2\n",
    "    taux_couverture_text = \"Taux de couverture = %s %%\" % taux_couverture\n",
    "    \n",
    "    plt.figure(figsize = (20,5))\n",
    "    plt.plot(ref['time'], ref['y/d'], label = \"Signal de reference\")\n",
    "    plt.plot(dfy.index, dfy['s=0.250']/0.025, label = \"Signal du simulateur\")\n",
    "    plt.xlabel('time (s)')\n",
    "    plt.ylabel('y/d')\n",
    "    \n",
    "    # Plot score_value and parameters value\n",
    "    plt.figtext(0.5, -0.05, score_text, ha=\"center\", fontsize=18, bbox={\"facecolor\":\"orange\", \"alpha\":0.5, \"pad\":5})\n",
    "    plt.figtext(0.5, -0.20, r2_text, ha=\"center\", fontsize=18, bbox={\"facecolor\":\"orange\", \"alpha\":0.5, \"pad\":5})\n",
    "\n",
    "    plt.figtext(0.5, -0.30, \"h = '{0}', tension = '{1}', u = '{2}', clo = '{3}', eps = '{4}', st = '{5}' \".format(cfg['cable']['h'],\n",
    "                                                                                                        cfg['cable']['tension'],cfg['wakeosc']['u'],cfg[\"wakeosc\"][\"cl0\"],\n",
    "                                                                                                                  cfg[\"wakeosc\"][\"eps\"],cfg[\"wakeosc\"][\"st\"]), ha=\"center\", fontsize=18, bbox={\"facecolor\":\"orange\", \"alpha\":0.5, \"pad\":5})\n",
    "    plt.figtext(0.5, -0.40, taux_couverture_text, ha=\"center\", fontsize=18, bbox={\"facecolor\":\"orange\", \"alpha\":0.5, \"pad\":5})\n",
    "\n",
    "    title = \"Comparaison du signal de simulation avec les valeurs de paramètres fournis par HYPEROPT avec le signal de reference, Fonction objectif utilisée : R2_score\"\n",
    "    plt.title(title,fontsize=18)\n",
    "\n",
    "\n",
    "    plt.legend()\n",
    "    plt.show() \n",
    "    # Compute the score\n",
    "\n",
    "    \n",
    "    print(\"#\"*40)\n",
    "    print(\"Current scores:\")\n",
    "    print(\"\\tR2 : {}\".format(r2_score(ref['y/d'],(dfy['s=0.250']/0.025).values[:-1])))\n",
    "    print(\"\\tMSE : {}\".format(mean_squared_error(ref['y/d'],(dfy['s=0.250']/0.025).values[:-1])))\n",
    "    print(\"#\"*40)\n",
    "    # Delete the simulation\n",
    "    del dfy\n",
    "    # Return the score\n",
    "    return score"
   ]
  },
  {
   "cell_type": "markdown",
   "metadata": {},
   "source": [
    "## Lancement du processus d'optimisation avec Hyperopt"
   ]
  },
  {
   "cell_type": "markdown",
   "metadata": {},
   "source": [
    "Nous lançons l'algorithme Hyperopt avec la fonction objectif choisie, l'espace de recherche souhaité, l'algorithme de suggestion utilisé par Hyperopt et le nombre maximum d'itérations"
   ]
  },
  {
   "cell_type": "code",
   "execution_count": null,
   "metadata": {},
   "outputs": [
    {
     "name": "stdout",
     "output_type": "stream",
     "text": [
      "\r",
      "  0%|          | 0/500 [00:00<?, ?trial/s, best loss=?]"
     ]
    }
   ],
   "source": [
    "# Run the optimization process\n",
    "best = fmin(r2_sim, search_space, algo=tpe.suggest, max_evals=500)"
   ]
  },
  {
   "cell_type": "code",
   "execution_count": null,
   "metadata": {},
   "outputs": [],
   "source": []
  },
  {
   "cell_type": "code",
   "execution_count": null,
   "metadata": {},
   "outputs": [],
   "source": []
  }
 ],
 "metadata": {
  "kernelspec": {
   "display_name": "Python 3",
   "language": "python",
   "name": "python3"
  },
  "language_info": {
   "codemirror_mode": {
    "name": "ipython",
    "version": 3
   },
   "file_extension": ".py",
   "mimetype": "text/x-python",
   "name": "python",
   "nbconvert_exporter": "python",
   "pygments_lexer": "ipython3",
   "version": "3.8.8"
  }
 },
 "nbformat": 4,
 "nbformat_minor": 4
}

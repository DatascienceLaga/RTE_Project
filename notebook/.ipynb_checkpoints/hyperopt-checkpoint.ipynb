{
 "cells": [
  {
   "cell_type": "markdown",
   "metadata": {},
   "source": [
    "# Optimisation des paramètres de simulation avec Hyperopt"
   ]
  },
  {
   "cell_type": "markdown",
   "metadata": {},
   "source": [
    "**Contexte:**\n",
    "    \n",
    "Dans ce notebook, nous cherchons à produire des Time-Series de simulation qui se rapproche un maximum des Time-Series de réference.\n",
    "Pour ce faire, nous utilisons la méthode d'optimisation Hyperopt pour trouver la combinaison de paramètres pour le modèle simplifié qui se rapproche du modèle de réference.\n",
    "\n",
    "Hyperopt prend l'espace de recherche que l'on lui fournit, utilisé un algorithme de suggestion pour décider des paramètres qu'il souhaite évaluer et enfin Hyperopt utilise une fonction objectif et cherche à minimiser cette fonction objectif.\n",
    "\n",
    "Les fonctions objectifs utilisable avec Hyperopt sont les fonctions objectifs qui sont minimisables."
   ]
  },
  {
   "cell_type": "markdown",
   "metadata": {},
   "source": [
    "## Modules import"
   ]
  },
  {
   "cell_type": "markdown",
   "metadata": {},
   "source": [
    "First of all we import the dependencies necessary to make the different implementations work."
   ]
  },
  {
   "cell_type": "code",
   "execution_count": null,
   "metadata": {},
   "outputs": [],
   "source": [
    "\n",
    "import sys\n",
    "sys.path.append(\"..\")\n",
    "import yaml\n",
    "import numpy as np\n",
    "import pandas as pd\n",
    "\n",
    "from sklearn.metrics import r2_score, mean_squared_error,mean_absolute_error\n",
    "from hyperopt import hp, fmin, tpe\n",
    "\n",
    "from uvsw_part.simulation import run_cable_wakeosc\n",
    "\n",
    "import matplotlib.pyplot as plt\n",
    "import math"
   ]
  },
  {
   "cell_type": "markdown",
   "metadata": {},
   "source": [
    "## Définition du chemin vers le fichier Liste*.txt et de le numéro de la Time-Series de réference utilisé"
   ]
  },
  {
   "cell_type": "markdown",
   "metadata": {},
   "source": [
    "The path to the List * file is used to retrieve the parameters of the reference Time-Series. <br> The index allows you to choose which Time-series we are going to work with (The index starts at 0)"
   ]
  },
  {
   "cell_type": "code",
   "execution_count": null,
   "metadata": {},
   "outputs": [],
   "source": [
    "# Path to list of Time series\n",
    "LIST_PATH = \"../data/params/List1.txt\"\n",
    "# Index of time series to simulate\n",
    "TS_INDEX = 5"
   ]
  },
  {
   "cell_type": "markdown",
   "metadata": {},
   "source": [
    "## Chargement de la Time-Series de reférence"
   ]
  },
  {
   "cell_type": "markdown",
   "metadata": {},
   "source": [
    "Ici, nous chargeons le fichier Liste utilisé ainsi que la Time-Series de réference auquel nous allons comparé la simulation"
   ]
  },
  {
   "cell_type": "code",
   "execution_count": null,
   "metadata": {},
   "outputs": [],
   "source": [
    "# Load list number\n",
    "LIST_REF = LIST_PATH[-9:-4].lower()\n",
    "\n",
    "# Read table of time series\n",
    "data_list = pd.read_csv(LIST_PATH , delim_whitespace=True)\n",
    "# Get parameters of selected time series\n",
    "set_params = data_list.iloc[TS_INDEX,:]\n",
    "# Get dataframe of data of corresponding TS\n",
    "\n",
    "#Reference time-series loading\n",
    "ref = pd.read_csv(\"../data/ref/\"+ LIST_REF + \"/graph{}.csv\".format(set_params[\"nc\"]))"
   ]
  },
  {
   "cell_type": "code",
   "execution_count": null,
   "metadata": {},
   "outputs": [],
   "source": [
    "# Show params of selected TS\n",
    "set_params"
   ]
  },
  {
   "cell_type": "markdown",
   "metadata": {},
   "source": [
    "## Df and Dt parameters setup to obtain Time-Series from the simulator with the same number of points as the reference model"
   ]
  },
  {
   "cell_type": "markdown",
   "metadata": {},
   "source": [
    "By setting the dt and dr value to the value of tf (Final Time) divided by the number of points in the reference model, we can obtain a simulation whose has the same number of points as the reference model. <br> This allows the use of methods to compare the 2 (RMSE,MSE, R2_SCORE)."
   ]
  },
  {
   "cell_type": "code",
   "execution_count": null,
   "metadata": {},
   "outputs": [],
   "source": [
    "# Definition of parameters allowing to obtain simulation Time-Series of the same length as the reference Time-Series\n",
    "tf_val = set_params[\"tf[s]\"]\n",
    "dt_val = tf_val / len(ref)\n",
    "dr_val = tf_val / len(ref)"
   ]
  },
  {
   "cell_type": "markdown",
   "metadata": {},
   "source": [
    "## Hyperopt search space definition"
   ]
  },
  {
   "cell_type": "markdown",
   "metadata": {},
   "source": [
    "Here we define the search space given to Hyperopt by defining the parameters and the distribution of values. <br> By After we define this search space variable, we give it to Hyperopt to try to find the set of parameters that minimizes the objective function.\n",
    "Set the pp parameter to False to avoid the mass prints of every iteration"
   ]
  },
  {
   "cell_type": "code",
   "execution_count": null,
   "metadata": {},
   "outputs": [],
   "source": [
    "search_space = {\n",
    "    'cable': {\n",
    "        'type': 'None',\n",
    "        'length': 1.0,\n",
    "        'tension': hp.uniform('tension_val',100.0,40000.0),\n",
    "        'h': hp.uniform('h_val',0.0,1000.0)},\n",
    "    'conductor': {'m': 1.57, 'd': 0.025, 'EA': 0.0},\n",
    "    'simulation': {'ns': 101,\n",
    "        'tf': tf_val,\n",
    "        'dt': dt_val,\n",
    "        'dr': dr_val,\n",
    "        'si': 99,\n",
    "        'pp': False}, ####### Enlever les prints\n",
    "    'wakeosc': {'u': hp.uniform('u_val',0.05,7.00),\n",
    "        'st': 0.235,\n",
    "        'cl0': 0.6,\n",
    "        'eps': 0.3,\n",
    "        'al': 0.1,\n",
    "        'bt': 0.0,\n",
    "        'gm': 0.0,\n",
    "        'md': 1,\n",
    "        'y0': 0.0,\n",
    "        'q0': 0.05}\n",
    "}"
   ]
  },
  {
   "cell_type": "markdown",
   "metadata": {},
   "source": [
    "## Data coverage rate"
   ]
  },
  {
   "cell_type": "markdown",
   "metadata": {},
   "source": [
    "We calculate a metric allowing to know the rate of values resulting from simulation included within the reference time-series for each timesteps. <br> We compare the sign of the value from the simulation and the reference for each values, and if they both share the same sign, we compare whether the simulation value has a lower amplitude than the reference one."
   ]
  },
  {
   "cell_type": "code",
   "execution_count": null,
   "metadata": {},
   "outputs": [],
   "source": [
    "def t_couverture (ref,dfy):\n",
    "    \"\"\"\n",
    "    Check if the reference and simulation values have the same sign one by one\n",
    "     If same sign, appropriate operations to see if the amplitude of the negative or positive simulation\n",
    "     is well contained in the reference \n",
    "    \n",
    "    Arguments :\n",
    "    ref (pandas.core.series.Series) (numpy.ndarray) : Reference model \n",
    "    dfy (numpy.ndarray)                             : Simplified model generated by the simulator \n",
    "    \n",
    "    \n",
    "    Sortie :\n",
    "        Data coverage rate (float): Pourcentage de valeurs de la simulation \n",
    "        à l'intérieur de la réference   \n",
    "    \"\"\"\n",
    "    same_sign = 0 # Number of the same sign in reference and simulation (taken 1 by 1)\n",
    "    \n",
    "    # Number of times the simulation has the same sign as the reference \n",
    "    # AND with the simulation contained in the reference (lower ampltude) \n",
    "    \n",
    "    couverture = 0\n",
    "    \n",
    "    \n",
    "    ref_taille = len(ref) # Total number of values in the reference or the simulation\n",
    "    \n",
    "    #Debug\n",
    "    diff_sign = 0 # Number of times the sign differs between reference and simulation (taken 1 by 1) \n",
    "    \n",
    "    \n",
    "    for i in range(0,ref_taille):\n",
    "        if(np.sign(ref[i]) == np.sign(dfy[i])): #If the reference and the sim have the same sign\n",
    "            same_sign = same_sign + 1\n",
    "\n",
    "\n",
    "            if(ref[i] < 0): # When the reference < 0  \n",
    "                if(ref[i] - dfy[i] < 0):# Check if the reference has bigger negative amplitude than the simulation \n",
    "                    couverture = couverture + 1\n",
    "                \n",
    "\n",
    "            if(ref[i] > 0): # When the reference > 0 \n",
    "                if(ref[i] - dfy[i] > 0):# Check if the reference has bigger positive amplitude than the simulation \n",
    "                    couverture = couverture + 1\n",
    "\n",
    "            if(ref[i] == 0): # Quand la reference = 0\n",
    "                if(ref[i] - dfy[i] == 0): # Check if the reference has same amplitude as the simulation\n",
    "                    couverture = couverture + 1\n",
    "\n",
    "            if(math.isnan(ref[i]) and math.isnan(dfy[i]) == True): # When the values of the reference and the simulation are both are not available (Na) \n",
    "                couverture = couverture + 1             \n",
    "            \n",
    "        else :\n",
    "            diff_sign = diff_sign + 1 # If the reference and the simulation do not have the same sign (debug) \n",
    "            \n",
    "\n",
    "    taux_couverture = (couverture / ref_taille) * 100 # Data coverage rate\n",
    "    return taux_couverture"
   ]
  },
  {
   "cell_type": "markdown",
   "metadata": {},
   "source": [
    "## Definition of objective functions used"
   ]
  },
  {
   "cell_type": "markdown",
   "metadata": {},
   "source": [
    "Here, we define the objective functions which are used with Hyperopt in order to retrieve combinations of simulator parameters approaching the reference model. <br>\n",
    "The objective functions calculate metrics which are used to assess the similarity between the simulation Time-Series and the reference one. <br>\n",
    "The metrics obtained must be minimized by Hyperopt.\n",
    "The 2 metrics used are the RMSE (Root Mean Squared Error) and the 1 - R2_score"
   ]
  },
  {
   "cell_type": "markdown",
   "metadata": {},
   "source": [
    "## Objective Function 1: Root Mean Squared Error (RMSE)"
   ]
  },
  {
   "cell_type": "markdown",
   "metadata": {},
   "source": [
    "The goal function used here uses a metric based on the RMSE. We calculate the RMSE between the simulation and the reference to compare the results. <br>The closer the result is to 0, the more similar the results. <br> This metric is less performant than the one based on the 1 - R2_SCORE\n",
    "<p>\n",
    "The simulation creation must be deleted after usage before the end of the function, to avoid exponential memory consumption and crash"
   ]
  },
  {
   "cell_type": "code",
   "execution_count": null,
   "metadata": {},
   "outputs": [],
   "source": [
    "def rmse_sim(cfg):\n",
    "    \"\"\"\n",
    "\n",
    "    Function allowing to calculate an objective function based on the RMSE and to display the graphs \n",
    "    for each iteration of Hyperopt\n",
    "    \n",
    "    Arguments : Search space \n",
    "    \n",
    "    Sortie : Score (float): calculated with the cost function (RMSE)\n",
    "              Plot with the values proposed by Hyperopt \n",
    "    \n",
    "    \"\"\"\n",
    "    # Run simulation\n",
    "    dfy, _ = run_cable_wakeosc(cfg)\n",
    "    print(\"yes\")\n",
    "    # Current config\n",
    "    print(\"#\"*100)\n",
    "    print(\"Current parameters:\")\n",
    "    print(\"\\tU value: {}, \\n\\tH value: {}, \\n\\tTension value: {}, \\n\\tcl0 value: {}, \\n\\teps value: {}\".format(\n",
    "        cfg['wakeosc']['u'],\n",
    "        cfg['cable']['h'],\n",
    "        cfg['cable']['tension'],\n",
    "        cfg['wakeosc']['cl0'],\n",
    "        cfg['wakeosc']['eps'])\n",
    "    )\n",
    "    print(\"#\"*100)\n",
    "    \n",
    "    # Calculate score\n",
    "    score = np.sqrt(mean_squared_error(ref['y/d'],(dfy['s=0.250']/0.025).values[:-1]))\n",
    "    \n",
    "    # Score saved in string for the plot\n",
    "    score_text = \"RMSE = %s \" % score\n",
    "\n",
    "    # Plot graphics\n",
    "    plt.figure(figsize = (20,5))\n",
    "    plt.plot(ref['time'], ref['y/d'], label = \"Reference signal\")\n",
    "    plt.plot(dfy.index, dfy['s=0.250']/0.025, label = \"Simulator signal\")\n",
    "    plt.xlabel('time (s)')\n",
    "    plt.ylabel('y/d')\n",
    "    \n",
    "    # Plot score and parameters\n",
    "    plt.figtext(0.5, -0.05, score_text, ha=\"center\", fontsize=18, bbox={\"facecolor\":\"orange\", \"alpha\":0.5, \"pad\":5})\n",
    "    plt.figtext(0.5, -0.20, \"h = '{0}', tension = '{1}', u = '{2}', clo = '{3}', eps = '{4}', st = '{5}' \".format(cfg['cable']['h'],\n",
    "                                                                                                                  cfg['cable']['tension'],cfg['wakeosc']['u'],cfg[\"wakeosc\"][\"cl0\"],\n",
    "                                                                                                                  cfg[\"wakeosc\"][\"eps\"],cfg[\"wakeosc\"][\"st\"]), ha=\"center\", fontsize=18, bbox={\"facecolor\":\"orange\", \"alpha\":0.5, \"pad\":5})\n",
    "    title = \"Comparison of the simulation signal with the parameter values supplied by HYPEROPT with the reference signal, Objective function used: RMSE \"\n",
    "    plt.title(title,fontsize=18)\n",
    "\n",
    "\n",
    "    plt.legend()\n",
    "    plt.show() \n",
    "\n",
    "    \n",
    "    print(\"#\"*40)\n",
    "    print(\"Current scores:\")\n",
    "    print(\"\\tR2 : {}\".format(r2_score(ref['y/d'],(dfy['s=0.250']/0.025).values[:-1])))\n",
    "    print(\"\\tMSE : {}\".format(mean_squared_error(ref['y/d'],(dfy['s=0.250']/0.025).values[:-1])))\n",
    "    print(\"#\"*40)\n",
    "    # Delete the simulation\n",
    "    del dfy\n",
    "    # Return the score\n",
    "    return score"
   ]
  },
  {
   "cell_type": "markdown",
   "metadata": {},
   "source": [
    "## Objective function: based on R2 SCORE "
   ]
  },
  {
   "cell_type": "markdown",
   "metadata": {},
   "source": [
    "The objective function defined here is a function based on the R2_SCORE. The R2_SCORE is used to compare the simulation and the reference. <br>\n",
    "To evaluate the R2_SCORE, the R2_SCORE must tend towards 1 to affirm that the 2 results are close, an R2_SCORE = 0 being bad, and an R2_SCORE < 0 means that a straight line looks more like the reference than the simulation (worse). <p>\n",
    "However, in order to have a formula that can be minimized by Hyperopt, the computational formula established here is 1.0 - R2_SCORE. This causes the result to approach 0 as it improves.\n",
    "    \n",
    "<p>\n",
    "The simulation creation must be deleted after usage before the end of the function, to avoid exponential memory consumption and crash"
   ]
  },
  {
   "cell_type": "code",
   "execution_count": null,
   "metadata": {},
   "outputs": [],
   "source": [
    "def r2_sim(cfg):\n",
    "    \n",
    "    \"\"\"\n",
    "\n",
    "    Function allowing to calculate the cost function and to display the graphs for each iteration of hyperopt\n",
    "    Arguments : search_space\n",
    "    \n",
    "    Sortie :Score calculated with the cost function (1 - R2_score) \n",
    "            Plot with the values proposed by Hyperopt and metrics\n",
    "    \n",
    "    \"\"\"\n",
    "    # Run simulation\n",
    "    dfy, _ = run_cable_wakeosc(cfg)\n",
    "    print(\"yes\")\n",
    "    # Current config\n",
    "    print(\"#\"*100)\n",
    "    print(\"Current parameters:\")\n",
    "    print(\"\\tU value: {}, \\n\\tH value: {}, \\n\\tTension value: {}, \\n\\tcl0 value: {}, \\n\\teps value: {}\".format(\n",
    "        cfg['wakeosc']['u'],\n",
    "        cfg['cable']['h'],\n",
    "        cfg['cable']['tension'],\n",
    "        cfg['wakeosc']['cl0'],\n",
    "        cfg['wakeosc']['eps'])\n",
    "    )\n",
    "    print(\"#\"*100)\n",
    "    \n",
    "    # Calculate score\n",
    "    score = 1.0 - r2_score(ref['y/d'],(dfy['s=0.250']/0.025).values[:-1])\n",
    "    taux_couverture = t_couverture(ref['y/d'],(dfy['s=0.250']/0.025).values[:-1])\n",
    "    r2 = r2_score(ref['y/d'],(dfy['s=0.250']/0.025).values[:-1])\n",
    "    \n",
    "    # Store score in a string for visualisation purpose\n",
    "    score_text = \"Score (1 - R2) = %s \" % score\n",
    "    r2_text = \"R2 = %s \" % r2\n",
    "    taux_couverture_text = \"Data coverage rate = %s %%\" % taux_couverture\n",
    "    \n",
    "    plt.figure(figsize = (20,5))\n",
    "    plt.plot(ref['time'], ref['y/d'], label = \"Signal de reference\")\n",
    "    plt.plot(dfy.index, dfy['s=0.250']/0.025, label = \"Signal du simulateur\")\n",
    "    plt.xlabel('time (s)')\n",
    "    plt.ylabel('y/d')\n",
    "    \n",
    "    # Plot score_value and parameters value\n",
    "    plt.figtext(0.5, -0.05, score_text, ha=\"center\", fontsize=18, bbox={\"facecolor\":\"orange\", \"alpha\":0.5, \"pad\":5})\n",
    "    plt.figtext(0.5, -0.20, r2_text, ha=\"center\", fontsize=18, bbox={\"facecolor\":\"orange\", \"alpha\":0.5, \"pad\":5})\n",
    "\n",
    "    plt.figtext(0.5, -0.30, \"h = '{0}', tension = '{1}', u = '{2}', clo = '{3}', eps = '{4}', st = '{5}' \".format(cfg['cable']['h'],\n",
    "                                                                                                        cfg['cable']['tension'],cfg['wakeosc']['u'],cfg[\"wakeosc\"][\"cl0\"],\n",
    "                                                                                                                  cfg[\"wakeosc\"][\"eps\"],cfg[\"wakeosc\"][\"st\"]), ha=\"center\", fontsize=18, bbox={\"facecolor\":\"orange\", \"alpha\":0.5, \"pad\":5})\n",
    "    plt.figtext(0.5, -0.40, taux_couverture_text, ha=\"center\", fontsize=18, bbox={\"facecolor\":\"orange\", \"alpha\":0.5, \"pad\":5})\n",
    "\n",
    "    title = \"Comparison of the simulation signal generated with the parameter values provided by HYPEROPT with the reference signal, Objective function used: R2_Score\"\n",
    "    plt.title(title,fontsize=18)\n",
    "\n",
    "\n",
    "    plt.legend()\n",
    "    plt.show() \n",
    "    # Compute the score\n",
    "\n",
    "    \n",
    "    print(\"#\"*40)\n",
    "    print(\"Current scores:\")\n",
    "    print(\"\\tR2 : {}\".format(r2_score(ref['y/d'],(dfy['s=0.250']/0.025).values[:-1])))\n",
    "    print(\"\\tMSE : {}\".format(mean_squared_error(ref['y/d'],(dfy['s=0.250']/0.025).values[:-1])))\n",
    "    print(\"#\"*40)\n",
    "    # Delete the simulation\n",
    "    del dfy\n",
    "    # Return the score\n",
    "    return score"
   ]
  },
  {
   "cell_type": "markdown",
   "metadata": {},
   "source": [
    "## Launch of the optimization process with Hyperopt"
   ]
  },
  {
   "cell_type": "markdown",
   "metadata": {},
   "source": [
    "We launch the Hyperopt algorithm with the chosen objective function, the desired search space, the suggestion algorithm used by Hyperopt and the maximum number of iterations <p>\n",
    "\n",
    "The mostly used suggestion algorithm is TPE (Tree Parzen Estimator). Our empirical data tells us that TPE execution speed is faster than Simulated Annealing in this case. <p>\n",
    "    \n",
    "Our empirical data also suggest that the results become interesting to exploit for iterations >= 500"
   ]
  },
  {
   "cell_type": "code",
   "execution_count": null,
   "metadata": {},
   "outputs": [],
   "source": [
    "# Run the optimization process\n",
    "best = fmin(r2_sim, search_space, algo=tpe.suggest, max_evals=500)"
   ]
  }
 ],
 "metadata": {
  "kernelspec": {
   "display_name": "Python 3",
   "language": "python",
   "name": "python3"
  },
  "language_info": {
   "codemirror_mode": {
    "name": "ipython",
    "version": 3
   },
   "file_extension": ".py",
   "mimetype": "text/x-python",
   "name": "python",
   "nbconvert_exporter": "python",
   "pygments_lexer": "ipython3",
   "version": "3.8.8"
  }
 },
 "nbformat": 4,
 "nbformat_minor": 4
}

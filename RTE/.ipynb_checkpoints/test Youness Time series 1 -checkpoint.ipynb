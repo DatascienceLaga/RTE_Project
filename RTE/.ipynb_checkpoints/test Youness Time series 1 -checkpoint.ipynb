{
 "cells": [
  {
   "cell_type": "code",
   "execution_count": 1,
   "metadata": {},
   "outputs": [
    {
     "ename": "RuntimeError",
     "evalue": "input simulation.tf must be a positive float",
     "output_type": "error",
     "traceback": [
      "\u001b[1;31m---------------------------------------------------------------------------\u001b[0m",
      "\u001b[1;31mRuntimeError\u001b[0m                              Traceback (most recent call last)",
      "\u001b[1;32m<ipython-input-1-37334ee3811e>\u001b[0m in \u001b[0;36m<module>\u001b[1;34m\u001b[0m\n\u001b[0;32m     12\u001b[0m \u001b[1;33m\u001b[0m\u001b[0m\n\u001b[0;32m     13\u001b[0m     \u001b[0mcfg\u001b[0m \u001b[1;33m=\u001b[0m \u001b[0myaml\u001b[0m\u001b[1;33m.\u001b[0m\u001b[0msafe_load\u001b[0m\u001b[1;33m(\u001b[0m\u001b[0mopen\u001b[0m\u001b[1;33m(\u001b[0m\u001b[1;34m'example.in.yaml'\u001b[0m\u001b[1;33m,\u001b[0m \u001b[1;34m'r'\u001b[0m\u001b[1;33m)\u001b[0m\u001b[1;33m)\u001b[0m\u001b[1;33m\u001b[0m\u001b[1;33m\u001b[0m\u001b[0m\n\u001b[1;32m---> 14\u001b[1;33m     \u001b[0mdfy\u001b[0m\u001b[1;33m,\u001b[0m \u001b[0m_\u001b[0m \u001b[1;33m=\u001b[0m \u001b[0msimulation\u001b[0m\u001b[1;33m.\u001b[0m\u001b[0mrun_cable_wakeosc\u001b[0m\u001b[1;33m(\u001b[0m\u001b[0mcfg\u001b[0m\u001b[1;33m)\u001b[0m\u001b[1;33m\u001b[0m\u001b[1;33m\u001b[0m\u001b[0m\n\u001b[0m\u001b[0;32m     15\u001b[0m \u001b[1;33m\u001b[0m\u001b[0m\n\u001b[0;32m     16\u001b[0m     \u001b[0msb\u001b[0m\u001b[1;33m.\u001b[0m\u001b[0mheatmap\u001b[0m\u001b[1;33m(\u001b[0m\u001b[0mdfy\u001b[0m\u001b[1;33m)\u001b[0m\u001b[1;33m\u001b[0m\u001b[1;33m\u001b[0m\u001b[0m\n",
      "\u001b[1;32m~\\anaconda3\\lib\\site-packages\\uvsw_part-0.0.0-py3.8.egg\\uvsw_part\\simulation.py\u001b[0m in \u001b[0;36mrun_cable_wakeosc\u001b[1;34m(cf)\u001b[0m\n\u001b[0;32m     48\u001b[0m         \u001b[1;32mraise\u001b[0m \u001b[0mRuntimeError\u001b[0m\u001b[1;33m(\u001b[0m\u001b[1;34m'input simulation.ns must be a int larger than 10'\u001b[0m\u001b[1;33m)\u001b[0m\u001b[1;33m\u001b[0m\u001b[1;33m\u001b[0m\u001b[0m\n\u001b[0;32m     49\u001b[0m     \u001b[1;32mif\u001b[0m \u001b[1;32mnot\u001b[0m \u001b[0misinstance\u001b[0m\u001b[1;33m(\u001b[0m\u001b[0mtf\u001b[0m\u001b[1;33m,\u001b[0m \u001b[0mfloat\u001b[0m\u001b[1;33m)\u001b[0m \u001b[1;32mor\u001b[0m \u001b[0mtf\u001b[0m \u001b[1;33m<\u001b[0m \u001b[1;36m0.\u001b[0m\u001b[1;33m:\u001b[0m\u001b[1;33m\u001b[0m\u001b[1;33m\u001b[0m\u001b[0m\n\u001b[1;32m---> 50\u001b[1;33m         \u001b[1;32mraise\u001b[0m \u001b[0mRuntimeError\u001b[0m\u001b[1;33m(\u001b[0m\u001b[1;34m'input simulation.tf must be a positive float'\u001b[0m\u001b[1;33m)\u001b[0m\u001b[1;33m\u001b[0m\u001b[1;33m\u001b[0m\u001b[0m\n\u001b[0m\u001b[0;32m     51\u001b[0m     \u001b[1;32mif\u001b[0m \u001b[1;32mnot\u001b[0m \u001b[0misinstance\u001b[0m\u001b[1;33m(\u001b[0m\u001b[0mdt\u001b[0m\u001b[1;33m,\u001b[0m \u001b[0mfloat\u001b[0m\u001b[1;33m)\u001b[0m \u001b[1;32mor\u001b[0m \u001b[0mdt\u001b[0m \u001b[1;33m<\u001b[0m \u001b[1;36m0.\u001b[0m \u001b[1;32mor\u001b[0m \u001b[0mdt\u001b[0m \u001b[1;33m>=\u001b[0m \u001b[1;36m0.5\u001b[0m \u001b[1;33m*\u001b[0m \u001b[0mtf\u001b[0m\u001b[1;33m:\u001b[0m\u001b[1;33m\u001b[0m\u001b[1;33m\u001b[0m\u001b[0m\n\u001b[0;32m     52\u001b[0m         raise RuntimeError('input simulation.dt must be a positive float and '\n",
      "\u001b[1;31mRuntimeError\u001b[0m: input simulation.tf must be a positive float"
     ]
    }
   ],
   "source": [
    "#!/usr/bin/env python\n",
    "# -*- coding: utf-8 -*-\n",
    "import pandas as pd\n",
    "import matplotlib.pyplot as plt\n",
    "import seaborn as sb\n",
    "import yaml\n",
    "\n",
    "from uvsw_part import simulation\n",
    "\n",
    "\n",
    "if __name__ == '__main__':\n",
    "\n",
    "    cfg = yaml.safe_load(open('example.in.yaml', 'r'))\n",
    "    dfy, _ = simulation.run_cable_wakeosc(cfg)\n",
    "\n",
    "    sb.heatmap(dfy)\n",
    "\n",
    "    plt.figure()\n",
    "    plt.plot(dfy.index, dfy['s=0.250']/0.025)\n",
    "    plt.xlabel('time (s)')\n",
    "    plt.ylabel('y/d')\n",
    "\n",
    "    plt.show() "
   ]
  },
  {
   "cell_type": "code",
   "execution_count": 229,
   "metadata": {},
   "outputs": [
    {
     "data": {
      "text/plain": [
       "2.6816198012389175e-05"
      ]
     },
     "execution_count": 229,
     "metadata": {},
     "output_type": "execute_result"
    }
   ],
   "source": [
    "#compute the max (y/d)\n",
    "max(dfy['s=0.250']/0.025)"
   ]
  },
  {
   "cell_type": "code",
   "execution_count": 230,
   "metadata": {},
   "outputs": [],
   "source": [
    "import pandas as pd \n",
    "data = {'time':dfy.index,'y/d':dfy['s=0.250']/0.025} # dict object to create dataframe"
   ]
  },
  {
   "cell_type": "code",
   "execution_count": 231,
   "metadata": {},
   "outputs": [
    {
     "data": {
      "text/plain": [
       "{'time': Float64Index([                  0.0,                 0.001,\n",
       "               0.0020000000000000005, 0.0030000000000000014,\n",
       "                0.004000000000000002,  0.005000000000000003,\n",
       "                0.006000000000000002,  0.006999999999999999,\n",
       "                0.007999999999999997,  0.008999999999999996,\n",
       "               ...\n",
       "                   7.197000000001325,     7.198000000001327,\n",
       "                  7.1990000000013294,     7.200000000001332,\n",
       "                   7.201000000001333,     7.202000000001335,\n",
       "                   7.203000000001337,     7.204000000001339,\n",
       "                   7.205000000001341,     7.206000000001343],\n",
       "              dtype='float64', length=7207),\n",
       " 'y/d': 0.000    0.000000e+00\n",
       " 0.001    5.082801e-12\n",
       " 0.002    2.033116e-11\n",
       " 0.003    4.574492e-11\n",
       " 0.004    8.132385e-11\n",
       "              ...     \n",
       " 7.202    2.662950e-05\n",
       " 7.203    2.667646e-05\n",
       " 7.204    2.672323e-05\n",
       " 7.205    2.676981e-05\n",
       " 7.206    2.681620e-05\n",
       " Name: s=0.250, Length: 7207, dtype: float64}"
      ]
     },
     "execution_count": 231,
     "metadata": {},
     "output_type": "execute_result"
    }
   ],
   "source": [
    "data"
   ]
  },
  {
   "cell_type": "code",
   "execution_count": 232,
   "metadata": {},
   "outputs": [],
   "source": [
    "DF1_11= pd.DataFrame(data)"
   ]
  },
  {
   "cell_type": "code",
   "execution_count": 233,
   "metadata": {},
   "outputs": [
    {
     "data": {
      "text/html": [
       "<div>\n",
       "<style scoped>\n",
       "    .dataframe tbody tr th:only-of-type {\n",
       "        vertical-align: middle;\n",
       "    }\n",
       "\n",
       "    .dataframe tbody tr th {\n",
       "        vertical-align: top;\n",
       "    }\n",
       "\n",
       "    .dataframe thead th {\n",
       "        text-align: right;\n",
       "    }\n",
       "</style>\n",
       "<table border=\"1\" class=\"dataframe\">\n",
       "  <thead>\n",
       "    <tr style=\"text-align: right;\">\n",
       "      <th></th>\n",
       "      <th>time</th>\n",
       "      <th>y/d</th>\n",
       "    </tr>\n",
       "  </thead>\n",
       "  <tbody>\n",
       "    <tr>\n",
       "      <th>0.000</th>\n",
       "      <td>0.000</td>\n",
       "      <td>0.000000e+00</td>\n",
       "    </tr>\n",
       "    <tr>\n",
       "      <th>0.001</th>\n",
       "      <td>0.001</td>\n",
       "      <td>5.082801e-12</td>\n",
       "    </tr>\n",
       "    <tr>\n",
       "      <th>0.002</th>\n",
       "      <td>0.002</td>\n",
       "      <td>2.033116e-11</td>\n",
       "    </tr>\n",
       "    <tr>\n",
       "      <th>0.003</th>\n",
       "      <td>0.003</td>\n",
       "      <td>4.574492e-11</td>\n",
       "    </tr>\n",
       "    <tr>\n",
       "      <th>0.004</th>\n",
       "      <td>0.004</td>\n",
       "      <td>8.132385e-11</td>\n",
       "    </tr>\n",
       "    <tr>\n",
       "      <th>...</th>\n",
       "      <td>...</td>\n",
       "      <td>...</td>\n",
       "    </tr>\n",
       "    <tr>\n",
       "      <th>7.202</th>\n",
       "      <td>7.202</td>\n",
       "      <td>2.662950e-05</td>\n",
       "    </tr>\n",
       "    <tr>\n",
       "      <th>7.203</th>\n",
       "      <td>7.203</td>\n",
       "      <td>2.667646e-05</td>\n",
       "    </tr>\n",
       "    <tr>\n",
       "      <th>7.204</th>\n",
       "      <td>7.204</td>\n",
       "      <td>2.672323e-05</td>\n",
       "    </tr>\n",
       "    <tr>\n",
       "      <th>7.205</th>\n",
       "      <td>7.205</td>\n",
       "      <td>2.676981e-05</td>\n",
       "    </tr>\n",
       "    <tr>\n",
       "      <th>7.206</th>\n",
       "      <td>7.206</td>\n",
       "      <td>2.681620e-05</td>\n",
       "    </tr>\n",
       "  </tbody>\n",
       "</table>\n",
       "<p>7207 rows × 2 columns</p>\n",
       "</div>"
      ],
      "text/plain": [
       "        time           y/d\n",
       "0.000  0.000  0.000000e+00\n",
       "0.001  0.001  5.082801e-12\n",
       "0.002  0.002  2.033116e-11\n",
       "0.003  0.003  4.574492e-11\n",
       "0.004  0.004  8.132385e-11\n",
       "...      ...           ...\n",
       "7.202  7.202  2.662950e-05\n",
       "7.203  7.203  2.667646e-05\n",
       "7.204  7.204  2.672323e-05\n",
       "7.205  7.205  2.676981e-05\n",
       "7.206  7.206  2.681620e-05\n",
       "\n",
       "[7207 rows x 2 columns]"
      ]
     },
     "execution_count": 233,
     "metadata": {},
     "output_type": "execute_result"
    }
   ],
   "source": [
    "DF1_11"
   ]
  },
  {
   "cell_type": "code",
   "execution_count": 238,
   "metadata": {},
   "outputs": [],
   "source": [
    "DF1_11 = pd.DataFrame(data).to_csv('Liste'+str(1_1)+'.csv',index=False) # Store dataframe on disk for current case"
   ]
  },
  {
   "cell_type": "code",
   "execution_count": 235,
   "metadata": {},
   "outputs": [],
   "source": [
    "simulation = pd.read_csv('Liste111.csv')"
   ]
  },
  {
   "cell_type": "code",
   "execution_count": 236,
   "metadata": {},
   "outputs": [],
   "source": [
    "ref = pd.read_csv('graph1.csv')"
   ]
  },
  {
   "cell_type": "code",
   "execution_count": 237,
   "metadata": {},
   "outputs": [
    {
     "data": {
      "text/plain": [
       "[<matplotlib.lines.Line2D at 0x1e8ae517e88>]"
      ]
     },
     "execution_count": 237,
     "metadata": {},
     "output_type": "execute_result"
    },
    {
     "data": {
      "image/png": "[encoded data removed]",
      "text/plain": [
       "<Figure size 432x288 with 1 Axes>"
      ]
     },
     "metadata": {
      "needs_background": "light"
     },
     "output_type": "display_data"
    }
   ],
   "source": [
    "plt.plot(ref['time'], ref['y/d'])\n",
    "plt.plot(simulation['time'],simulation['y/d'])"
   ]
  },
  {
   "cell_type": "code",
   "execution_count": 122,
   "metadata": {},
   "outputs": [
    {
     "data": {
      "text/html": [
       "<div>\n",
       "<style scoped>\n",
       "    .dataframe tbody tr th:only-of-type {\n",
       "        vertical-align: middle;\n",
       "    }\n",
       "\n",
       "    .dataframe tbody tr th {\n",
       "        vertical-align: top;\n",
       "    }\n",
       "\n",
       "    .dataframe thead th {\n",
       "        text-align: right;\n",
       "    }\n",
       "</style>\n",
       "<table border=\"1\" class=\"dataframe\">\n",
       "  <thead>\n",
       "    <tr style=\"text-align: right;\">\n",
       "      <th></th>\n",
       "      <th>nc</th>\n",
       "      <th>md</th>\n",
       "      <th>U</th>\n",
       "      <th>d</th>\n",
       "      <th>m</th>\n",
       "      <th>L</th>\n",
       "      <th>H</th>\n",
       "      <th>Nt</th>\n",
       "      <th>Dt</th>\n",
       "      <th>tf</th>\n",
       "      <th>ymax</th>\n",
       "      <th>time</th>\n",
       "      <th>y/d</th>\n",
       "    </tr>\n",
       "  </thead>\n",
       "  <tbody>\n",
       "    <tr>\n",
       "      <th>0</th>\n",
       "      <td>1</td>\n",
       "      <td>1</td>\n",
       "      <td>0.9</td>\n",
       "      <td>0.025</td>\n",
       "      <td>1.57</td>\n",
       "      <td>1</td>\n",
       "      <td>500</td>\n",
       "      <td>18015</td>\n",
       "      <td>0.0004</td>\n",
       "      <td>7.206</td>\n",
       "      <td>7.681950e-08</td>\n",
       "      <td>0.0004</td>\n",
       "      <td>-3.927842e-13</td>\n",
       "    </tr>\n",
       "    <tr>\n",
       "      <th>1</th>\n",
       "      <td>1</td>\n",
       "      <td>1</td>\n",
       "      <td>0.9</td>\n",
       "      <td>0.025</td>\n",
       "      <td>1.57</td>\n",
       "      <td>1</td>\n",
       "      <td>500</td>\n",
       "      <td>18015</td>\n",
       "      <td>0.0004</td>\n",
       "      <td>7.206</td>\n",
       "      <td>7.681950e-08</td>\n",
       "      <td>0.0008</td>\n",
       "      <td>-1.234590e-12</td>\n",
       "    </tr>\n",
       "    <tr>\n",
       "      <th>2</th>\n",
       "      <td>1</td>\n",
       "      <td>1</td>\n",
       "      <td>0.9</td>\n",
       "      <td>0.025</td>\n",
       "      <td>1.57</td>\n",
       "      <td>1</td>\n",
       "      <td>500</td>\n",
       "      <td>18015</td>\n",
       "      <td>0.0004</td>\n",
       "      <td>7.206</td>\n",
       "      <td>7.681950e-08</td>\n",
       "      <td>0.0012</td>\n",
       "      <td>-3.786880e-11</td>\n",
       "    </tr>\n",
       "    <tr>\n",
       "      <th>3</th>\n",
       "      <td>1</td>\n",
       "      <td>1</td>\n",
       "      <td>0.9</td>\n",
       "      <td>0.025</td>\n",
       "      <td>1.57</td>\n",
       "      <td>1</td>\n",
       "      <td>500</td>\n",
       "      <td>18015</td>\n",
       "      <td>0.0004</td>\n",
       "      <td>7.206</td>\n",
       "      <td>7.681950e-08</td>\n",
       "      <td>0.0016</td>\n",
       "      <td>-1.015281e-10</td>\n",
       "    </tr>\n",
       "    <tr>\n",
       "      <th>4</th>\n",
       "      <td>1</td>\n",
       "      <td>1</td>\n",
       "      <td>0.9</td>\n",
       "      <td>0.025</td>\n",
       "      <td>1.57</td>\n",
       "      <td>1</td>\n",
       "      <td>500</td>\n",
       "      <td>18015</td>\n",
       "      <td>0.0004</td>\n",
       "      <td>7.206</td>\n",
       "      <td>7.681950e-08</td>\n",
       "      <td>0.0020</td>\n",
       "      <td>-1.545000e-10</td>\n",
       "    </tr>\n",
       "  </tbody>\n",
       "</table>\n",
       "</div>"
      ],
      "text/plain": [
       "   nc  md    U      d     m  L    H     Nt      Dt     tf          ymax  \\\n",
       "0   1   1  0.9  0.025  1.57  1  500  18015  0.0004  7.206  7.681950e-08   \n",
       "1   1   1  0.9  0.025  1.57  1  500  18015  0.0004  7.206  7.681950e-08   \n",
       "2   1   1  0.9  0.025  1.57  1  500  18015  0.0004  7.206  7.681950e-08   \n",
       "3   1   1  0.9  0.025  1.57  1  500  18015  0.0004  7.206  7.681950e-08   \n",
       "4   1   1  0.9  0.025  1.57  1  500  18015  0.0004  7.206  7.681950e-08   \n",
       "\n",
       "     time           y/d  \n",
       "0  0.0004 -3.927842e-13  \n",
       "1  0.0008 -1.234590e-12  \n",
       "2  0.0012 -3.786880e-11  \n",
       "3  0.0016 -1.015281e-10  \n",
       "4  0.0020 -1.545000e-10  "
      ]
     },
     "execution_count": 122,
     "metadata": {},
     "output_type": "execute_result"
    }
   ],
   "source": [
    "ref.head()"
   ]
  },
  {
   "cell_type": "code",
   "execution_count": null,
   "metadata": {},
   "outputs": [],
   "source": []
  },
  {
   "cell_type": "code",
   "execution_count": null,
   "metadata": {},
   "outputs": [],
   "source": []
  }
 ],
 "metadata": {
  "kernelspec": {
   "display_name": "Python 3",
   "language": "python",
   "name": "python3"
  },
  "language_info": {
   "codemirror_mode": {
    "name": "ipython",
    "version": 3
   },
   "file_extension": ".py",
   "mimetype": "text/x-python",
   "name": "python",
   "nbconvert_exporter": "python",
   "pygments_lexer": "ipython3",
   "version": "3.8.5"
  }
 },
 "nbformat": 4,
 "nbformat_minor": 4
}

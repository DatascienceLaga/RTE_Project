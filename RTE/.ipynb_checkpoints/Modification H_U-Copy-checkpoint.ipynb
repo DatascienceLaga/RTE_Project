{
 "cells": [
  {
   "cell_type": "code",
   "execution_count": 1,
   "metadata": {},
   "outputs": [],
   "source": [
    "#!/usr/bin/env python\n",
    "# -*- coding: utf-8 -*-\n",
    "import pandas as pd\n",
    "import matplotlib.pyplot as plt\n",
    "import seaborn as sb\n",
    "import yaml\n",
    "import numpy as np\n",
    "from sklearn.metrics import r2_score\n",
    "from uvsw_part import simulation\n",
    "from sklearn.metrics import mean_squared_error\n",
    "\n",
    "import math\n",
    "from math import e"
   ]
  },
  {
   "cell_type": "code",
   "execution_count": null,
   "metadata": {},
   "outputs": [],
   "source": [
    "\"\"\"\n",
    "if __name__ == '__main__':\n",
    "\n",
    "    cfg = yaml.safe_load(open('example.in.yaml', 'r'))\n",
    "    dfy, _ = simulation.run_cable_wakeosc(cfg)\n",
    "\n",
    "    sb.heatmap(dfy)\n",
    "\n",
    "    plt.figure()\n",
    "    plt.plot(dfy.index, dfy['s=0.250']/0.025)\n",
    "    plt.xlabel('time (s)')\n",
    "    plt.ylabel('y/d')\n",
    "\n",
    "    plt.show()\n",
    "\"\"\""
   ]
  },
  {
   "cell_type": "code",
   "execution_count": 2,
   "metadata": {},
   "outputs": [],
   "source": [
    "cfg = yaml.safe_load(open('example.in.yaml', 'r'))"
   ]
  },
  {
   "cell_type": "code",
   "execution_count": 3,
   "metadata": {},
   "outputs": [
    {
     "data": {
      "text/plain": [
       "{'cable': {'type': 'None', 'length': 1.0, 'tension': 32000.0, 'h': 500.0},\n",
       " 'conductor': {'m': 1.57, 'd': 0.025, 'EA': 0.0},\n",
       " 'simulation': {'ns': 101,\n",
       "  'tf': 4.0,\n",
       "  'dt': 0.0002,\n",
       "  'dr': 0.001,\n",
       "  'si': 99,\n",
       "  'pp': True},\n",
       " 'wakeosc': {'u': 0.9,\n",
       "  'st': 0.235,\n",
       "  'cl0': 0.6,\n",
       "  'eps': 0.3,\n",
       "  'al': 0.1,\n",
       "  'bt': 0.0,\n",
       "  'gm': 0.0,\n",
       "  'md': 1,\n",
       "  'y0': 0.0,\n",
       "  'q0': 0.05}}"
      ]
     },
     "execution_count": 3,
     "metadata": {},
     "output_type": "execute_result"
    }
   ],
   "source": [
    "cfg"
   ]
  },
  {
   "cell_type": "code",
   "execution_count": 4,
   "metadata": {},
   "outputs": [
    {
     "data": {
      "text/html": [
       "<div>\n",
       "<style scoped>\n",
       "    .dataframe tbody tr th:only-of-type {\n",
       "        vertical-align: middle;\n",
       "    }\n",
       "\n",
       "    .dataframe tbody tr th {\n",
       "        vertical-align: top;\n",
       "    }\n",
       "\n",
       "    .dataframe thead th {\n",
       "        text-align: right;\n",
       "    }\n",
       "</style>\n",
       "<table border=\"1\" class=\"dataframe\">\n",
       "  <thead>\n",
       "    <tr style=\"text-align: right;\">\n",
       "      <th></th>\n",
       "      <th>nc</th>\n",
       "      <th>md</th>\n",
       "      <th>U[m/s]</th>\n",
       "      <th>d[m]</th>\n",
       "      <th>m[kg/m]</th>\n",
       "      <th>L[m]</th>\n",
       "      <th>H[N]</th>\n",
       "      <th>Nt</th>\n",
       "      <th>Dt[s]</th>\n",
       "      <th>tf[s]</th>\n",
       "      <th>ymax[m]</th>\n",
       "      <th>filename</th>\n",
       "    </tr>\n",
       "  </thead>\n",
       "  <tbody>\n",
       "    <tr>\n",
       "      <th>0</th>\n",
       "      <td>1</td>\n",
       "      <td>2</td>\n",
       "      <td>1.86</td>\n",
       "      <td>0.025</td>\n",
       "      <td>1.57</td>\n",
       "      <td>1</td>\n",
       "      <td>500</td>\n",
       "      <td>46556</td>\n",
       "      <td>0.0004</td>\n",
       "      <td>18.6224</td>\n",
       "      <td>0.000071</td>\n",
       "      <td>Data2.1.bin</td>\n",
       "    </tr>\n",
       "    <tr>\n",
       "      <th>1</th>\n",
       "      <td>2</td>\n",
       "      <td>2</td>\n",
       "      <td>1.88</td>\n",
       "      <td>0.025</td>\n",
       "      <td>1.57</td>\n",
       "      <td>1</td>\n",
       "      <td>500</td>\n",
       "      <td>100000</td>\n",
       "      <td>0.0004</td>\n",
       "      <td>40.0000</td>\n",
       "      <td>0.001031</td>\n",
       "      <td>Data2.2.bin</td>\n",
       "    </tr>\n",
       "    <tr>\n",
       "      <th>2</th>\n",
       "      <td>3</td>\n",
       "      <td>2</td>\n",
       "      <td>1.90</td>\n",
       "      <td>0.025</td>\n",
       "      <td>1.57</td>\n",
       "      <td>1</td>\n",
       "      <td>500</td>\n",
       "      <td>100000</td>\n",
       "      <td>0.0004</td>\n",
       "      <td>40.0000</td>\n",
       "      <td>0.001903</td>\n",
       "      <td>Data2.3.bin</td>\n",
       "    </tr>\n",
       "    <tr>\n",
       "      <th>3</th>\n",
       "      <td>4</td>\n",
       "      <td>2</td>\n",
       "      <td>1.92</td>\n",
       "      <td>0.025</td>\n",
       "      <td>1.57</td>\n",
       "      <td>1</td>\n",
       "      <td>500</td>\n",
       "      <td>100000</td>\n",
       "      <td>0.0004</td>\n",
       "      <td>40.0000</td>\n",
       "      <td>0.001796</td>\n",
       "      <td>Data2.4.bin</td>\n",
       "    </tr>\n",
       "    <tr>\n",
       "      <th>4</th>\n",
       "      <td>5</td>\n",
       "      <td>2</td>\n",
       "      <td>1.94</td>\n",
       "      <td>0.025</td>\n",
       "      <td>1.57</td>\n",
       "      <td>1</td>\n",
       "      <td>500</td>\n",
       "      <td>100000</td>\n",
       "      <td>0.0004</td>\n",
       "      <td>40.0000</td>\n",
       "      <td>0.000429</td>\n",
       "      <td>Data2.5.bin</td>\n",
       "    </tr>\n",
       "  </tbody>\n",
       "</table>\n",
       "</div>"
      ],
      "text/plain": [
       "   nc  md  U[m/s]   d[m]  m[kg/m]  L[m]  H[N]      Nt   Dt[s]    tf[s]  \\\n",
       "0   1   2    1.86  0.025     1.57     1   500   46556  0.0004  18.6224   \n",
       "1   2   2    1.88  0.025     1.57     1   500  100000  0.0004  40.0000   \n",
       "2   3   2    1.90  0.025     1.57     1   500  100000  0.0004  40.0000   \n",
       "3   4   2    1.92  0.025     1.57     1   500  100000  0.0004  40.0000   \n",
       "4   5   2    1.94  0.025     1.57     1   500  100000  0.0004  40.0000   \n",
       "\n",
       "    ymax[m]     filename  \n",
       "0  0.000071  Data2.1.bin  \n",
       "1  0.001031  Data2.2.bin  \n",
       "2  0.001903  Data2.3.bin  \n",
       "3  0.001796  Data2.4.bin  \n",
       "4  0.000429  Data2.5.bin  "
      ]
     },
     "execution_count": 4,
     "metadata": {},
     "output_type": "execute_result"
    }
   ],
   "source": [
    "#data_list = pd.read_csv(\"/home/nithushan/Documents/M2_Stage/RTE/awakosc/uvsw_part/test/List2.txt\" , delim_whitespace=True)\n",
    "data_list = pd.read_csv(\"List2.txt\" , delim_whitespace=True)\n",
    "\n",
    "data_list.head()"
   ]
  },
  {
   "cell_type": "code",
   "execution_count": 5,
   "metadata": {},
   "outputs": [
    {
     "data": {
      "text/html": [
       "<div>\n",
       "<style scoped>\n",
       "    .dataframe tbody tr th:only-of-type {\n",
       "        vertical-align: middle;\n",
       "    }\n",
       "\n",
       "    .dataframe tbody tr th {\n",
       "        vertical-align: top;\n",
       "    }\n",
       "\n",
       "    .dataframe thead th {\n",
       "        text-align: right;\n",
       "    }\n",
       "</style>\n",
       "<table border=\"1\" class=\"dataframe\">\n",
       "  <thead>\n",
       "    <tr style=\"text-align: right;\">\n",
       "      <th></th>\n",
       "      <th>nc</th>\n",
       "      <th>md</th>\n",
       "      <th>U[m/s]</th>\n",
       "      <th>d[m]</th>\n",
       "      <th>m[kg/m]</th>\n",
       "      <th>L[m]</th>\n",
       "      <th>H[N]</th>\n",
       "      <th>Nt</th>\n",
       "      <th>Dt[s]</th>\n",
       "      <th>tf[s]</th>\n",
       "      <th>ymax[m]</th>\n",
       "    </tr>\n",
       "  </thead>\n",
       "  <tbody>\n",
       "    <tr>\n",
       "      <th>count</th>\n",
       "      <td>12.000000</td>\n",
       "      <td>12.0</td>\n",
       "      <td>12.000000</td>\n",
       "      <td>1.200000e+01</td>\n",
       "      <td>12.00</td>\n",
       "      <td>12.0</td>\n",
       "      <td>12.000000</td>\n",
       "      <td>12.000000</td>\n",
       "      <td>12.000000</td>\n",
       "      <td>12.000000</td>\n",
       "      <td>12.000000</td>\n",
       "    </tr>\n",
       "    <tr>\n",
       "      <th>mean</th>\n",
       "      <td>6.500000</td>\n",
       "      <td>2.0</td>\n",
       "      <td>2.738333</td>\n",
       "      <td>2.500000e-02</td>\n",
       "      <td>1.57</td>\n",
       "      <td>1.0</td>\n",
       "      <td>1125.000000</td>\n",
       "      <td>76685.416667</td>\n",
       "      <td>0.000317</td>\n",
       "      <td>23.253333</td>\n",
       "      <td>0.000808</td>\n",
       "    </tr>\n",
       "    <tr>\n",
       "      <th>std</th>\n",
       "      <td>3.605551</td>\n",
       "      <td>0.0</td>\n",
       "      <td>0.968230</td>\n",
       "      <td>3.623719e-18</td>\n",
       "      <td>0.00</td>\n",
       "      <td>0.0</td>\n",
       "      <td>772.392976</td>\n",
       "      <td>34088.685840</td>\n",
       "      <td>0.000103</td>\n",
       "      <td>13.400653</td>\n",
       "      <td>0.000671</td>\n",
       "    </tr>\n",
       "    <tr>\n",
       "      <th>min</th>\n",
       "      <td>1.000000</td>\n",
       "      <td>2.0</td>\n",
       "      <td>1.860000</td>\n",
       "      <td>2.500000e-02</td>\n",
       "      <td>1.57</td>\n",
       "      <td>1.0</td>\n",
       "      <td>500.000000</td>\n",
       "      <td>4767.000000</td>\n",
       "      <td>0.000200</td>\n",
       "      <td>1.906800</td>\n",
       "      <td>0.000024</td>\n",
       "    </tr>\n",
       "    <tr>\n",
       "      <th>25%</th>\n",
       "      <td>3.750000</td>\n",
       "      <td>2.0</td>\n",
       "      <td>1.915000</td>\n",
       "      <td>2.500000e-02</td>\n",
       "      <td>1.57</td>\n",
       "      <td>1.0</td>\n",
       "      <td>500.000000</td>\n",
       "      <td>62288.000000</td>\n",
       "      <td>0.000200</td>\n",
       "      <td>15.034300</td>\n",
       "      <td>0.000174</td>\n",
       "    </tr>\n",
       "    <tr>\n",
       "      <th>50%</th>\n",
       "      <td>6.500000</td>\n",
       "      <td>2.0</td>\n",
       "      <td>2.105000</td>\n",
       "      <td>2.500000e-02</td>\n",
       "      <td>1.57</td>\n",
       "      <td>1.0</td>\n",
       "      <td>500.000000</td>\n",
       "      <td>100000.000000</td>\n",
       "      <td>0.000400</td>\n",
       "      <td>20.000000</td>\n",
       "      <td>0.000785</td>\n",
       "    </tr>\n",
       "    <tr>\n",
       "      <th>75%</th>\n",
       "      <td>9.250000</td>\n",
       "      <td>2.0</td>\n",
       "      <td>3.822500</td>\n",
       "      <td>2.500000e-02</td>\n",
       "      <td>1.57</td>\n",
       "      <td>1.0</td>\n",
       "      <td>2000.000000</td>\n",
       "      <td>100000.000000</td>\n",
       "      <td>0.000400</td>\n",
       "      <td>40.000000</td>\n",
       "      <td>0.001219</td>\n",
       "    </tr>\n",
       "    <tr>\n",
       "      <th>max</th>\n",
       "      <td>12.000000</td>\n",
       "      <td>2.0</td>\n",
       "      <td>3.860000</td>\n",
       "      <td>2.500000e-02</td>\n",
       "      <td>1.57</td>\n",
       "      <td>1.0</td>\n",
       "      <td>2000.000000</td>\n",
       "      <td>100000.000000</td>\n",
       "      <td>0.000400</td>\n",
       "      <td>40.000000</td>\n",
       "      <td>0.001903</td>\n",
       "    </tr>\n",
       "  </tbody>\n",
       "</table>\n",
       "</div>"
      ],
      "text/plain": [
       "              nc    md     U[m/s]          d[m]  m[kg/m]  L[m]         H[N]  \\\n",
       "count  12.000000  12.0  12.000000  1.200000e+01    12.00  12.0    12.000000   \n",
       "mean    6.500000   2.0   2.738333  2.500000e-02     1.57   1.0  1125.000000   \n",
       "std     3.605551   0.0   0.968230  3.623719e-18     0.00   0.0   772.392976   \n",
       "min     1.000000   2.0   1.860000  2.500000e-02     1.57   1.0   500.000000   \n",
       "25%     3.750000   2.0   1.915000  2.500000e-02     1.57   1.0   500.000000   \n",
       "50%     6.500000   2.0   2.105000  2.500000e-02     1.57   1.0   500.000000   \n",
       "75%     9.250000   2.0   3.822500  2.500000e-02     1.57   1.0  2000.000000   \n",
       "max    12.000000   2.0   3.860000  2.500000e-02     1.57   1.0  2000.000000   \n",
       "\n",
       "                  Nt      Dt[s]      tf[s]    ymax[m]  \n",
       "count      12.000000  12.000000  12.000000  12.000000  \n",
       "mean    76685.416667   0.000317  23.253333   0.000808  \n",
       "std     34088.685840   0.000103  13.400653   0.000671  \n",
       "min      4767.000000   0.000200   1.906800   0.000024  \n",
       "25%     62288.000000   0.000200  15.034300   0.000174  \n",
       "50%    100000.000000   0.000400  20.000000   0.000785  \n",
       "75%    100000.000000   0.000400  40.000000   0.001219  \n",
       "max    100000.000000   0.000400  40.000000   0.001903  "
      ]
     },
     "execution_count": 5,
     "metadata": {},
     "output_type": "execute_result"
    }
   ],
   "source": [
    "data_list.describe()"
   ]
  },
  {
   "cell_type": "code",
   "execution_count": 6,
   "metadata": {},
   "outputs": [
    {
     "name": "stdout",
     "output_type": "stream",
     "text": [
      "7\n",
      "Index(['nc', 'md', 'U[m/s]', 'd[m]', 'm[kg/m]', 'L[m]', 'H[N]', 'Nt', 'Dt[s]',\n",
      "       'tf[s]', 'ymax[m]', 'filename'],\n",
      "      dtype='object')\n",
      "    nc  md  U[m/s]   d[m]  m[kg/m]  L[m]  H[N]      Nt   Dt[s]    tf[s]  \\\n",
      "0    1   2    1.86  0.025     1.57     1   500   46556  0.0004  18.6224   \n",
      "1    2   2    1.88  0.025     1.57     1   500  100000  0.0004  40.0000   \n",
      "2    3   2    1.90  0.025     1.57     1   500  100000  0.0004  40.0000   \n",
      "3    4   2    1.92  0.025     1.57     1   500  100000  0.0004  40.0000   \n",
      "4    5   2    1.94  0.025     1.57     1   500  100000  0.0004  40.0000   \n",
      "5    6   2    1.98  0.025     1.57     1   500   23652  0.0004   9.4608   \n",
      "6    7   2    2.23  0.025     1.57     1   500    4767  0.0004   1.9068   \n",
      "7    8   2    3.80  0.025     1.57     1  2000   77718  0.0002  15.5436   \n",
      "8    9   2    3.82  0.025     1.57     1  2000  100000  0.0002  20.0000   \n",
      "9   10   2    3.83  0.025     1.57     1  2000  100000  0.0002  20.0000   \n",
      "10  11   2    3.84  0.025     1.57     1  2000  100000  0.0002  20.0000   \n",
      "11  12   2    3.86  0.025     1.57     1  2000   67532  0.0002  13.5064   \n",
      "\n",
      "     ymax[m]      filename  \n",
      "0   0.000071   Data2.1.bin  \n",
      "1   0.001031   Data2.2.bin  \n",
      "2   0.001903   Data2.3.bin  \n",
      "3   0.001796   Data2.4.bin  \n",
      "4   0.000429   Data2.5.bin  \n",
      "5   0.000088   Data2.6.bin  \n",
      "6   0.000024   Data2.7.bin  \n",
      "7   0.000539   Data2.8.bin  \n",
      "8   0.001170   Data2.9.bin  \n",
      "9   0.001216  Data2.10.bin  \n",
      "10  0.001228  Data2.11.bin  \n",
      "11  0.000202  Data2.12.bin  \n",
      "dict_keys(['cable', 'conductor', 'simulation', 'wakeosc'])\n"
     ]
    }
   ],
   "source": [
    "#set_params = data_list.iloc[0,:]\n",
    "#set_params = data_list.iloc[1,:] # celle de 40\n",
    "\n",
    "set_params = data_list.iloc[6,:] #celle de 9\n",
    "print(set_params[\"nc\"])\n",
    "print(data_list.keys())\n",
    "print(data_list)\n",
    "print(cfg.keys())\n"
   ]
  },
  {
   "cell_type": "code",
   "execution_count": 7,
   "metadata": {},
   "outputs": [
    {
     "name": "stderr",
     "output_type": "stream",
     "text": [
      "<ipython-input-7-f90871357fc4>:1: DeprecationWarning: `np.float` is a deprecated alias for the builtin `float`. To silence this warning, use `float` by itself. Doing this will not modify any behavior and is safe. If you specifically wanted the numpy scalar type, use `np.float64` here.\n",
      "Deprecated in NumPy 1.20; for more details and guidance: https://numpy.org/devdocs/release/1.20.0-notes.html#deprecations\n",
      "  cfg[\"cable\"][\"h\"] = np.float(set_params[\"H[N]\"])\n",
      "<ipython-input-7-f90871357fc4>:2: DeprecationWarning: `np.float` is a deprecated alias for the builtin `float`. To silence this warning, use `float` by itself. Doing this will not modify any behavior and is safe. If you specifically wanted the numpy scalar type, use `np.float64` here.\n",
      "Deprecated in NumPy 1.20; for more details and guidance: https://numpy.org/devdocs/release/1.20.0-notes.html#deprecations\n",
      "  cfg[\"simulation\"][\"tf\"] = np.float(set_params[\"tf[s]\"])\n",
      "<ipython-input-7-f90871357fc4>:3: DeprecationWarning: `np.float` is a deprecated alias for the builtin `float`. To silence this warning, use `float` by itself. Doing this will not modify any behavior and is safe. If you specifically wanted the numpy scalar type, use `np.float64` here.\n",
      "Deprecated in NumPy 1.20; for more details and guidance: https://numpy.org/devdocs/release/1.20.0-notes.html#deprecations\n",
      "  cfg[\"wakeosc\"][\"u\"] = np.float(set_params[\"U[m/s]\"])\n"
     ]
    }
   ],
   "source": [
    "cfg[\"cable\"][\"h\"] = np.float(set_params[\"H[N]\"])\n",
    "cfg[\"simulation\"][\"tf\"] = np.float(set_params[\"tf[s]\"])\n",
    "cfg[\"wakeosc\"][\"u\"] = np.float(set_params[\"U[m/s]\"])"
   ]
  },
  {
   "cell_type": "code",
   "execution_count": 8,
   "metadata": {},
   "outputs": [
    {
     "name": "stdout",
     "output_type": "stream",
     "text": [
      "{'cable': {'type': 'None', 'length': 1.0, 'tension': 32000.0, 'h': 500.0}, 'conductor': {'m': 1.57, 'd': 0.025, 'EA': 0.0}, 'simulation': {'ns': 101, 'tf': 1.9068, 'dt': 0.0002, 'dr': 0.001, 'si': 99, 'pp': True}, 'wakeosc': {'u': 2.23, 'st': 0.235, 'cl0': 0.6, 'eps': 0.3, 'al': 0.1, 'bt': 0.0, 'gm': 0.0, 'md': 1, 'y0': 0.0, 'q0': 0.05}}\n",
      "-----\n",
      "500.0\n"
     ]
    }
   ],
   "source": [
    "print(cfg)\n",
    "print(\"-----\")\n",
    "print(cfg[\"cable\"][\"h\"])"
   ]
  },
  {
   "cell_type": "code",
   "execution_count": 9,
   "metadata": {},
   "outputs": [
    {
     "name": "stdout",
     "output_type": "stream",
     "text": [
      "[0.05 0.1  0.15 0.2  0.25 0.3  0.35 0.4  0.45]\n"
     ]
    }
   ],
   "source": [
    "u_list = np.arange(0.05, 0.5, 0.05)\n",
    "print(u_list)"
   ]
  },
  {
   "cell_type": "code",
   "execution_count": 10,
   "metadata": {},
   "outputs": [
    {
     "name": "stdout",
     "output_type": "stream",
     "text": [
      "        nc  md     U      d     m  L    H     Nt      Dt       tf      ymax  \\\n",
      "0        1   2  1.86  0.025  1.57  1  500  46556  0.0004  18.6224  0.000071   \n",
      "1        1   2  1.86  0.025  1.57  1  500  46556  0.0004  18.6224  0.000071   \n",
      "2        1   2  1.86  0.025  1.57  1  500  46556  0.0004  18.6224  0.000071   \n",
      "3        1   2  1.86  0.025  1.57  1  500  46556  0.0004  18.6224  0.000071   \n",
      "4        1   2  1.86  0.025  1.57  1  500  46556  0.0004  18.6224  0.000071   \n",
      "...     ..  ..   ...    ...   ... ..  ...    ...     ...      ...       ...   \n",
      "949945   7   2  2.23  0.025  1.57  1  500   4767  0.0004   1.9068  0.000024   \n",
      "949946   7   2  2.23  0.025  1.57  1  500   4767  0.0004   1.9068  0.000024   \n",
      "949947   7   2  2.23  0.025  1.57  1  500   4767  0.0004   1.9068  0.000024   \n",
      "949948   7   2  2.23  0.025  1.57  1  500   4767  0.0004   1.9068  0.000024   \n",
      "949949   7   2  2.23  0.025  1.57  1  500   4767  0.0004   1.9068  0.000024   \n",
      "\n",
      "          time           y/d  \n",
      "0       0.0004 -3.925815e-13  \n",
      "1       0.0008 -1.232346e-12  \n",
      "2       0.0012 -4.230106e-11  \n",
      "3       0.0016 -1.158912e-10  \n",
      "4       0.0020 -1.886572e-10  \n",
      "...        ...           ...  \n",
      "949945  1.9052 -1.330004e-04  \n",
      "949946  1.9056 -1.349617e-04  \n",
      "949947  1.9060 -1.366788e-04  \n",
      "949948  1.9064 -1.381351e-04  \n",
      "949949  1.9068 -1.393199e-04  \n",
      "\n",
      "[949950 rows x 13 columns]\n"
     ]
    }
   ],
   "source": [
    "ref = pd.read_csv(\"graph{}.csv\".format(set_params[\"nc\"]))\n",
    "print(ref)"
   ]
  },
  {
   "cell_type": "code",
   "execution_count": 20,
   "metadata": {
    "scrolled": true
   },
   "outputs": [
    {
     "name": "stdout",
     "output_type": "stream",
     "text": [
      "\n",
      "        ####################################################################################### \n",
      "        #                                      Serie n: 2                                     #\n",
      "        #######################################################################################\n",
      "        \n",
      "################ H value: 101 ################\n",
      "h value:  101.0  u value:  2.15\n",
      "-- running  0.00%\r",
      " -- running  0.01%"
     ]
    },
    {
     "name": "stderr",
     "output_type": "stream",
     "text": [
      "<ipython-input-20-75a5f02a86e5>:31: DeprecationWarning: `np.float` is a deprecated alias for the builtin `float`. To silence this warning, use `float` by itself. Doing this will not modify any behavior and is safe. If you specifically wanted the numpy scalar type, use `np.float64` here.\n",
      "Deprecated in NumPy 1.20; for more details and guidance: https://numpy.org/devdocs/release/1.20.0-notes.html#deprecations\n",
      "  cfg[\"cable\"][\"h\"] = np.float(H_value)\n",
      "<ipython-input-20-75a5f02a86e5>:33: DeprecationWarning: `np.float` is a deprecated alias for the builtin `float`. To silence this warning, use `float` by itself. Doing this will not modify any behavior and is safe. If you specifically wanted the numpy scalar type, use `np.float64` here.\n",
      "Deprecated in NumPy 1.20; for more details and guidance: https://numpy.org/devdocs/release/1.20.0-notes.html#deprecations\n",
      "  cfg[\"simulation\"][\"tf\"] = np.float(set_params[\"tf[s]\"])\n"
     ]
    },
    {
     "name": "stdout",
     "output_type": "stream",
     "text": [
      " -- running 100.00%\r"
     ]
    },
    {
     "data": {
      "image/png": "[encoded data removed]",
      "text/plain": [
       "<Figure size 1440x360 with 1 Axes>"
      ]
     },
     "metadata": {
      "needs_background": "light"
     },
     "output_type": "display_data"
    },
    {
     "name": "stdout",
     "output_type": "stream",
     "text": [
      "\n",
      "        ####################################################################################### \n",
      "        #                                      Serie n: 1                                     #\n",
      "        #######################################################################################\n",
      "        \n",
      "################ H value: 101 ################\n",
      "h value:  101.0  u value:  2.15\n",
      " -- running  0.02%"
     ]
    },
    {
     "name": "stderr",
     "output_type": "stream",
     "text": [
      "<ipython-input-20-75a5f02a86e5>:31: DeprecationWarning: `np.float` is a deprecated alias for the builtin `float`. To silence this warning, use `float` by itself. Doing this will not modify any behavior and is safe. If you specifically wanted the numpy scalar type, use `np.float64` here.\n",
      "Deprecated in NumPy 1.20; for more details and guidance: https://numpy.org/devdocs/release/1.20.0-notes.html#deprecations\n",
      "  cfg[\"cable\"][\"h\"] = np.float(H_value)\n",
      "<ipython-input-20-75a5f02a86e5>:33: DeprecationWarning: `np.float` is a deprecated alias for the builtin `float`. To silence this warning, use `float` by itself. Doing this will not modify any behavior and is safe. If you specifically wanted the numpy scalar type, use `np.float64` here.\n",
      "Deprecated in NumPy 1.20; for more details and guidance: https://numpy.org/devdocs/release/1.20.0-notes.html#deprecations\n",
      "  cfg[\"simulation\"][\"tf\"] = np.float(set_params[\"tf[s]\"])\n"
     ]
    },
    {
     "name": "stdout",
     "output_type": "stream",
     "text": [
      " -- running 100.00%\r"
     ]
    },
    {
     "data": {
      "image/png": "[encoded data removed]",
      "text/plain": [
       "<Figure size 1440x360 with 1 Axes>"
      ]
     },
     "metadata": {
      "needs_background": "light"
     },
     "output_type": "display_data"
    },
    {
     "name": "stdout",
     "output_type": "stream",
     "text": [
      "\n",
      "        ####################################################################################### \n",
      "        #                                      Serie n: 2                                     #\n",
      "        #######################################################################################\n",
      "        \n",
      "################ H value: 101 ################\n",
      "h value:  101.0  u value:  2.15\n",
      " -- running  0.02%"
     ]
    },
    {
     "name": "stderr",
     "output_type": "stream",
     "text": [
      "<ipython-input-20-75a5f02a86e5>:31: DeprecationWarning: `np.float` is a deprecated alias for the builtin `float`. To silence this warning, use `float` by itself. Doing this will not modify any behavior and is safe. If you specifically wanted the numpy scalar type, use `np.float64` here.\n",
      "Deprecated in NumPy 1.20; for more details and guidance: https://numpy.org/devdocs/release/1.20.0-notes.html#deprecations\n",
      "  cfg[\"cable\"][\"h\"] = np.float(H_value)\n",
      "<ipython-input-20-75a5f02a86e5>:33: DeprecationWarning: `np.float` is a deprecated alias for the builtin `float`. To silence this warning, use `float` by itself. Doing this will not modify any behavior and is safe. If you specifically wanted the numpy scalar type, use `np.float64` here.\n",
      "Deprecated in NumPy 1.20; for more details and guidance: https://numpy.org/devdocs/release/1.20.0-notes.html#deprecations\n",
      "  cfg[\"simulation\"][\"tf\"] = np.float(set_params[\"tf[s]\"])\n"
     ]
    },
    {
     "name": "stdout",
     "output_type": "stream",
     "text": [
      " -- running 100.00%\r"
     ]
    },
    {
     "data": {
      "image/png": "[encoded data removed]",
      "text/plain": [
       "<Figure size 1440x360 with 1 Axes>"
      ]
     },
     "metadata": {
      "needs_background": "light"
     },
     "output_type": "display_data"
    },
    {
     "name": "stdout",
     "output_type": "stream",
     "text": [
      "\n",
      "        ####################################################################################### \n",
      "        #                                      Serie n: 3                                     #\n",
      "        #######################################################################################\n",
      "        \n",
      "################ H value: 101 ################\n",
      "h value:  101.0  u value:  2.15\n",
      " -- running  0.02%"
     ]
    },
    {
     "name": "stderr",
     "output_type": "stream",
     "text": [
      "<ipython-input-20-75a5f02a86e5>:31: DeprecationWarning: `np.float` is a deprecated alias for the builtin `float`. To silence this warning, use `float` by itself. Doing this will not modify any behavior and is safe. If you specifically wanted the numpy scalar type, use `np.float64` here.\n",
      "Deprecated in NumPy 1.20; for more details and guidance: https://numpy.org/devdocs/release/1.20.0-notes.html#deprecations\n",
      "  cfg[\"cable\"][\"h\"] = np.float(H_value)\n",
      "<ipython-input-20-75a5f02a86e5>:33: DeprecationWarning: `np.float` is a deprecated alias for the builtin `float`. To silence this warning, use `float` by itself. Doing this will not modify any behavior and is safe. If you specifically wanted the numpy scalar type, use `np.float64` here.\n",
      "Deprecated in NumPy 1.20; for more details and guidance: https://numpy.org/devdocs/release/1.20.0-notes.html#deprecations\n",
      "  cfg[\"simulation\"][\"tf\"] = np.float(set_params[\"tf[s]\"])\n"
     ]
    },
    {
     "name": "stdout",
     "output_type": "stream",
     "text": [
      " -- running 100.00%\r"
     ]
    },
    {
     "data": {
      "image/png": "[encoded data removed]",
      "text/plain": [
       "<Figure size 1440x360 with 1 Axes>"
      ]
     },
     "metadata": {
      "needs_background": "light"
     },
     "output_type": "display_data"
    },
    {
     "name": "stdout",
     "output_type": "stream",
     "text": [
      "\n",
      "        ####################################################################################### \n",
      "        #                                      Serie n: 4                                     #\n",
      "        #######################################################################################\n",
      "        \n",
      "################ H value: 101 ################\n",
      "h value:  101.0  u value:  2.15\n",
      " -- running  0.02%"
     ]
    },
    {
     "name": "stderr",
     "output_type": "stream",
     "text": [
      "<ipython-input-20-75a5f02a86e5>:31: DeprecationWarning: `np.float` is a deprecated alias for the builtin `float`. To silence this warning, use `float` by itself. Doing this will not modify any behavior and is safe. If you specifically wanted the numpy scalar type, use `np.float64` here.\n",
      "Deprecated in NumPy 1.20; for more details and guidance: https://numpy.org/devdocs/release/1.20.0-notes.html#deprecations\n",
      "  cfg[\"cable\"][\"h\"] = np.float(H_value)\n",
      "<ipython-input-20-75a5f02a86e5>:33: DeprecationWarning: `np.float` is a deprecated alias for the builtin `float`. To silence this warning, use `float` by itself. Doing this will not modify any behavior and is safe. If you specifically wanted the numpy scalar type, use `np.float64` here.\n",
      "Deprecated in NumPy 1.20; for more details and guidance: https://numpy.org/devdocs/release/1.20.0-notes.html#deprecations\n",
      "  cfg[\"simulation\"][\"tf\"] = np.float(set_params[\"tf[s]\"])\n"
     ]
    },
    {
     "name": "stdout",
     "output_type": "stream",
     "text": [
      " -- running  7.46%"
     ]
    },
    {
     "ename": "KeyboardInterrupt",
     "evalue": "",
     "output_type": "error",
     "traceback": [
      "\u001b[0;31m---------------------------------------------------------------------------\u001b[0m",
      "\u001b[0;31mKeyboardInterrupt\u001b[0m                         Traceback (most recent call last)",
      "\u001b[0;32m<ipython-input-20-75a5f02a86e5>\u001b[0m in \u001b[0;36m<module>\u001b[0;34m\u001b[0m\n\u001b[1;32m     39\u001b[0m             \u001b[0mprint\u001b[0m\u001b[0;34m(\u001b[0m\u001b[0;34m\"h value: \"\u001b[0m\u001b[0;34m,\u001b[0m \u001b[0mcfg\u001b[0m\u001b[0;34m[\u001b[0m\u001b[0;34m\"cable\"\u001b[0m\u001b[0;34m]\u001b[0m\u001b[0;34m[\u001b[0m\u001b[0;34m\"h\"\u001b[0m\u001b[0;34m]\u001b[0m\u001b[0;34m,\u001b[0m \u001b[0;34m\" u value: \"\u001b[0m\u001b[0;34m,\u001b[0m \u001b[0mcfg\u001b[0m\u001b[0;34m[\u001b[0m\u001b[0;34m\"wakeosc\"\u001b[0m\u001b[0;34m]\u001b[0m\u001b[0;34m[\u001b[0m\u001b[0;34m\"u\"\u001b[0m\u001b[0;34m]\u001b[0m\u001b[0;34m)\u001b[0m\u001b[0;34m\u001b[0m\u001b[0;34m\u001b[0m\u001b[0m\n\u001b[1;32m     40\u001b[0m \u001b[0;34m\u001b[0m\u001b[0m\n\u001b[0;32m---> 41\u001b[0;31m             \u001b[0mdfy\u001b[0m\u001b[0;34m,\u001b[0m \u001b[0m_\u001b[0m \u001b[0;34m=\u001b[0m \u001b[0msimulation\u001b[0m\u001b[0;34m.\u001b[0m\u001b[0mrun_cable_wakeosc\u001b[0m\u001b[0;34m(\u001b[0m\u001b[0mcfg\u001b[0m\u001b[0;34m)\u001b[0m\u001b[0;34m\u001b[0m\u001b[0;34m\u001b[0m\u001b[0m\n\u001b[0m\u001b[1;32m     42\u001b[0m \u001b[0;34m\u001b[0m\u001b[0m\n\u001b[1;32m     43\u001b[0m             \u001b[0;31m#print(r2_score(ref['y/d'],simulation['y/d'][:-1]))\u001b[0m\u001b[0;34m\u001b[0m\u001b[0;34m\u001b[0m\u001b[0;34m\u001b[0m\u001b[0m\n",
      "\u001b[0;32m~/Documents/M2_Stage/RTE/awakosc/uvsw_part/test/uvsw_part/simulation.py\u001b[0m in \u001b[0;36mrun_cable_wakeosc\u001b[0;34m(cf)\u001b[0m\n\u001b[1;32m     99\u001b[0m     \u001b[0my\u001b[0m \u001b[0;34m=\u001b[0m \u001b[0my0\u001b[0m \u001b[0;34m*\u001b[0m \u001b[0mnp\u001b[0m\u001b[0;34m.\u001b[0m\u001b[0msin\u001b[0m\u001b[0;34m(\u001b[0m\u001b[0mmd\u001b[0m \u001b[0;34m*\u001b[0m \u001b[0mnp\u001b[0m\u001b[0;34m.\u001b[0m\u001b[0mpi\u001b[0m \u001b[0;34m*\u001b[0m \u001b[0ms\u001b[0m\u001b[0;34m)\u001b[0m\u001b[0;34m\u001b[0m\u001b[0;34m\u001b[0m\u001b[0m\n\u001b[1;32m    100\u001b[0m     \u001b[0mq\u001b[0m \u001b[0;34m=\u001b[0m \u001b[0mq0\u001b[0m \u001b[0;34m*\u001b[0m \u001b[0mnp\u001b[0m\u001b[0;34m.\u001b[0m\u001b[0msin\u001b[0m\u001b[0;34m(\u001b[0m\u001b[0mmd\u001b[0m \u001b[0;34m*\u001b[0m \u001b[0mnp\u001b[0m\u001b[0;34m.\u001b[0m\u001b[0mpi\u001b[0m \u001b[0;34m*\u001b[0m \u001b[0ms\u001b[0m\u001b[0;34m)\u001b[0m\u001b[0;34m\u001b[0m\u001b[0;34m\u001b[0m\u001b[0m\n\u001b[0;32m--> 101\u001b[0;31m     \u001b[0mr\u001b[0m \u001b[0;34m=\u001b[0m \u001b[0mcable\u001b[0m\u001b[0;34m.\u001b[0m\u001b[0msolve_wo\u001b[0m\u001b[0;34m(\u001b[0m\u001b[0mcb\u001b[0m\u001b[0;34m,\u001b[0m \u001b[0mpm\u001b[0m\u001b[0;34m,\u001b[0m \u001b[0mwo\u001b[0m\u001b[0;34m,\u001b[0m \u001b[0mshape\u001b[0m\u001b[0;34m=\u001b[0m\u001b[0;34m(\u001b[0m\u001b[0my\u001b[0m\u001b[0;34m,\u001b[0m \u001b[0;32mNone\u001b[0m\u001b[0;34m,\u001b[0m \u001b[0mq\u001b[0m\u001b[0;34m)\u001b[0m\u001b[0;34m,\u001b[0m \u001b[0mspeed\u001b[0m\u001b[0;34m=\u001b[0m\u001b[0;32mNone\u001b[0m\u001b[0;34m,\u001b[0m \u001b[0mfast\u001b[0m\u001b[0;34m=\u001b[0m\u001b[0;32mTrue\u001b[0m\u001b[0;34m)\u001b[0m\u001b[0;34m\u001b[0m\u001b[0;34m\u001b[0m\u001b[0m\n\u001b[0m\u001b[1;32m    102\u001b[0m \u001b[0;34m\u001b[0m\u001b[0m\n\u001b[1;32m    103\u001b[0m     \u001b[0mcl\u001b[0m \u001b[0;34m=\u001b[0m \u001b[0;34m[\u001b[0m\u001b[0;34m's=%.3f'\u001b[0m \u001b[0;34m%\u001b[0m \u001b[0;34m(\u001b[0m\u001b[0ms\u001b[0m\u001b[0;34m,\u001b[0m\u001b[0;34m)\u001b[0m \u001b[0;32mfor\u001b[0m \u001b[0ms\u001b[0m \u001b[0;32min\u001b[0m \u001b[0mpm\u001b[0m\u001b[0;34m.\u001b[0m\u001b[0msi\u001b[0m\u001b[0;34m]\u001b[0m\u001b[0;34m\u001b[0m\u001b[0;34m\u001b[0m\u001b[0m\n",
      "\u001b[0;32m~/Documents/M2_Stage/RTE/awakosc/uvsw_part/test/uvsw_part/cable.py\u001b[0m in \u001b[0;36msolve_wo\u001b[0;34m(cb, pm, wo, shape, speed, remove_cat, fast)\u001b[0m\n\u001b[1;32m    373\u001b[0m \u001b[0;34m\u001b[0m\u001b[0m\n\u001b[1;32m    374\u001b[0m         \u001b[0;32mif\u001b[0m \u001b[0mfast\u001b[0m\u001b[0;34m:\u001b[0m\u001b[0;34m\u001b[0m\u001b[0;34m\u001b[0m\u001b[0m\n\u001b[0;32m--> 375\u001b[0;31m             \u001b[0mAa\u001b[0m \u001b[0;34m=\u001b[0m \u001b[0mA\u001b[0m\u001b[0;34m.\u001b[0m\u001b[0mmultiply\u001b[0m\u001b[0;34m(\u001b[0m\u001b[0;34m(\u001b[0m\u001b[0mcb\u001b[0m\u001b[0;34m.\u001b[0m\u001b[0mH\u001b[0m \u001b[0;34m+\u001b[0m \u001b[0mcb\u001b[0m\u001b[0;34m.\u001b[0m\u001b[0mEA\u001b[0m \u001b[0;34m*\u001b[0m \u001b[0me\u001b[0m\u001b[0;34m)\u001b[0m \u001b[0;34m/\u001b[0m \u001b[0;34m(\u001b[0m\u001b[0mcb\u001b[0m\u001b[0;34m.\u001b[0m\u001b[0mm\u001b[0m \u001b[0;34m*\u001b[0m \u001b[0mcb\u001b[0m\u001b[0;34m.\u001b[0m\u001b[0mL\u001b[0m\u001b[0;34m**\u001b[0m\u001b[0;36m2\u001b[0m \u001b[0;34m*\u001b[0m \u001b[0mw\u001b[0m\u001b[0;34m**\u001b[0m\u001b[0;36m2\u001b[0m\u001b[0;34m)\u001b[0m \u001b[0;34m*\u001b[0m \u001b[0mht\u001b[0m\u001b[0;34m)\u001b[0m\u001b[0;34m\u001b[0m\u001b[0;34m\u001b[0m\u001b[0m\n\u001b[0m\u001b[1;32m    376\u001b[0m             \u001b[0mBb\u001b[0m \u001b[0;34m=\u001b[0m \u001b[0;34m(\u001b[0m\u001b[0mcb\u001b[0m\u001b[0;34m.\u001b[0m\u001b[0mEA\u001b[0m \u001b[0;34m*\u001b[0m \u001b[0mcb\u001b[0m\u001b[0;34m.\u001b[0m\u001b[0mg\u001b[0m \u001b[0;34m*\u001b[0m \u001b[0me\u001b[0m\u001b[0;34m)\u001b[0m \u001b[0;34m/\u001b[0m \u001b[0;34m(\u001b[0m\u001b[0mcb\u001b[0m\u001b[0;34m.\u001b[0m\u001b[0mH\u001b[0m \u001b[0;34m*\u001b[0m \u001b[0mcb\u001b[0m\u001b[0;34m.\u001b[0m\u001b[0md\u001b[0m \u001b[0;34m*\u001b[0m \u001b[0mw\u001b[0m\u001b[0;34m**\u001b[0m\u001b[0;36m2\u001b[0m\u001b[0;34m)\u001b[0m\u001b[0;34m\u001b[0m\u001b[0;34m\u001b[0m\u001b[0m\n\u001b[1;32m    377\u001b[0m             \u001b[0mA21\u001b[0m \u001b[0;34m=\u001b[0m \u001b[0mAa\u001b[0m\u001b[0;34m\u001b[0m\u001b[0;34m\u001b[0m\u001b[0m\n",
      "\u001b[0;32m~/anaconda3/envs/stage/lib/python3.8/site-packages/scipy/sparse/base.py\u001b[0m in \u001b[0;36mmultiply\u001b[0;34m(self, other)\u001b[0m\n\u001b[1;32m    334\u001b[0m         \"\"\"Point-wise multiplication by another matrix\n\u001b[1;32m    335\u001b[0m         \"\"\"\n\u001b[0;32m--> 336\u001b[0;31m         \u001b[0;32mreturn\u001b[0m \u001b[0mself\u001b[0m\u001b[0;34m.\u001b[0m\u001b[0mtocsr\u001b[0m\u001b[0;34m(\u001b[0m\u001b[0;34m)\u001b[0m\u001b[0;34m.\u001b[0m\u001b[0mmultiply\u001b[0m\u001b[0;34m(\u001b[0m\u001b[0mother\u001b[0m\u001b[0;34m)\u001b[0m\u001b[0;34m\u001b[0m\u001b[0;34m\u001b[0m\u001b[0m\n\u001b[0m\u001b[1;32m    337\u001b[0m \u001b[0;34m\u001b[0m\u001b[0m\n\u001b[1;32m    338\u001b[0m     \u001b[0;32mdef\u001b[0m \u001b[0mmaximum\u001b[0m\u001b[0;34m(\u001b[0m\u001b[0mself\u001b[0m\u001b[0;34m,\u001b[0m \u001b[0mother\u001b[0m\u001b[0;34m)\u001b[0m\u001b[0;34m:\u001b[0m\u001b[0;34m\u001b[0m\u001b[0;34m\u001b[0m\u001b[0m\n",
      "\u001b[0;32m~/anaconda3/envs/stage/lib/python3.8/site-packages/scipy/sparse/base.py\u001b[0m in \u001b[0;36mtocsr\u001b[0;34m(self, copy)\u001b[0m\n\u001b[1;32m    905\u001b[0m         \u001b[0mthe\u001b[0m \u001b[0mresultant\u001b[0m \u001b[0mcsr_matrix\u001b[0m\u001b[0;34m.\u001b[0m\u001b[0;34m\u001b[0m\u001b[0;34m\u001b[0m\u001b[0m\n\u001b[1;32m    906\u001b[0m         \"\"\"\n\u001b[0;32m--> 907\u001b[0;31m         \u001b[0;32mreturn\u001b[0m \u001b[0mself\u001b[0m\u001b[0;34m.\u001b[0m\u001b[0mtocoo\u001b[0m\u001b[0;34m(\u001b[0m\u001b[0mcopy\u001b[0m\u001b[0;34m=\u001b[0m\u001b[0mcopy\u001b[0m\u001b[0;34m)\u001b[0m\u001b[0;34m.\u001b[0m\u001b[0mtocsr\u001b[0m\u001b[0;34m(\u001b[0m\u001b[0mcopy\u001b[0m\u001b[0;34m=\u001b[0m\u001b[0;32mFalse\u001b[0m\u001b[0;34m)\u001b[0m\u001b[0;34m\u001b[0m\u001b[0;34m\u001b[0m\u001b[0m\n\u001b[0m\u001b[1;32m    908\u001b[0m \u001b[0;34m\u001b[0m\u001b[0m\n\u001b[1;32m    909\u001b[0m     \u001b[0;32mdef\u001b[0m \u001b[0mtodok\u001b[0m\u001b[0;34m(\u001b[0m\u001b[0mself\u001b[0m\u001b[0;34m,\u001b[0m \u001b[0mcopy\u001b[0m\u001b[0;34m=\u001b[0m\u001b[0;32mFalse\u001b[0m\u001b[0;34m)\u001b[0m\u001b[0;34m:\u001b[0m\u001b[0;34m\u001b[0m\u001b[0;34m\u001b[0m\u001b[0m\n",
      "\u001b[0;32m~/anaconda3/envs/stage/lib/python3.8/site-packages/scipy/sparse/coo.py\u001b[0m in \u001b[0;36mtocsr\u001b[0;34m(self, copy)\u001b[0m\n\u001b[1;32m    396\u001b[0m             \u001b[0mM\u001b[0m\u001b[0;34m,\u001b[0m\u001b[0mN\u001b[0m \u001b[0;34m=\u001b[0m \u001b[0mself\u001b[0m\u001b[0;34m.\u001b[0m\u001b[0mshape\u001b[0m\u001b[0;34m\u001b[0m\u001b[0;34m\u001b[0m\u001b[0m\n\u001b[1;32m    397\u001b[0m             idx_dtype = get_index_dtype((self.row, self.col),\n\u001b[0;32m--> 398\u001b[0;31m                                         maxval=max(self.nnz, N))\n\u001b[0m\u001b[1;32m    399\u001b[0m             \u001b[0mrow\u001b[0m \u001b[0;34m=\u001b[0m \u001b[0mself\u001b[0m\u001b[0;34m.\u001b[0m\u001b[0mrow\u001b[0m\u001b[0;34m.\u001b[0m\u001b[0mastype\u001b[0m\u001b[0;34m(\u001b[0m\u001b[0midx_dtype\u001b[0m\u001b[0;34m,\u001b[0m \u001b[0mcopy\u001b[0m\u001b[0;34m=\u001b[0m\u001b[0;32mFalse\u001b[0m\u001b[0;34m)\u001b[0m\u001b[0;34m\u001b[0m\u001b[0;34m\u001b[0m\u001b[0m\n\u001b[1;32m    400\u001b[0m             \u001b[0mcol\u001b[0m \u001b[0;34m=\u001b[0m \u001b[0mself\u001b[0m\u001b[0;34m.\u001b[0m\u001b[0mcol\u001b[0m\u001b[0;34m.\u001b[0m\u001b[0mastype\u001b[0m\u001b[0;34m(\u001b[0m\u001b[0midx_dtype\u001b[0m\u001b[0;34m,\u001b[0m \u001b[0mcopy\u001b[0m\u001b[0;34m=\u001b[0m\u001b[0;32mFalse\u001b[0m\u001b[0;34m)\u001b[0m\u001b[0;34m\u001b[0m\u001b[0;34m\u001b[0m\u001b[0m\n",
      "\u001b[0;32m~/anaconda3/envs/stage/lib/python3.8/site-packages/scipy/sparse/base.py\u001b[0m in \u001b[0;36mnnz\u001b[0;34m(self)\u001b[0m\n\u001b[1;32m    244\u001b[0m         \u001b[0mcount_nonzero\u001b[0m \u001b[0;34m:\u001b[0m \u001b[0mNumber\u001b[0m \u001b[0mof\u001b[0m \u001b[0mnon\u001b[0m\u001b[0;34m-\u001b[0m\u001b[0mzero\u001b[0m \u001b[0mentries\u001b[0m\u001b[0;34m\u001b[0m\u001b[0;34m\u001b[0m\u001b[0m\n\u001b[1;32m    245\u001b[0m         \"\"\"\n\u001b[0;32m--> 246\u001b[0;31m         \u001b[0;32mreturn\u001b[0m \u001b[0mself\u001b[0m\u001b[0;34m.\u001b[0m\u001b[0mgetnnz\u001b[0m\u001b[0;34m(\u001b[0m\u001b[0;34m)\u001b[0m\u001b[0;34m\u001b[0m\u001b[0;34m\u001b[0m\u001b[0m\n\u001b[0m\u001b[1;32m    247\u001b[0m \u001b[0;34m\u001b[0m\u001b[0m\n\u001b[1;32m    248\u001b[0m     \u001b[0;32mdef\u001b[0m \u001b[0mgetformat\u001b[0m\u001b[0;34m(\u001b[0m\u001b[0mself\u001b[0m\u001b[0;34m)\u001b[0m\u001b[0;34m:\u001b[0m\u001b[0;34m\u001b[0m\u001b[0;34m\u001b[0m\u001b[0m\n",
      "\u001b[0;32m~/anaconda3/envs/stage/lib/python3.8/site-packages/scipy/sparse/coo.py\u001b[0m in \u001b[0;36mgetnnz\u001b[0;34m(self, axis)\u001b[0m\n\u001b[1;32m    244\u001b[0m                                  'same length')\n\u001b[1;32m    245\u001b[0m \u001b[0;34m\u001b[0m\u001b[0m\n\u001b[0;32m--> 246\u001b[0;31m             \u001b[0;32mif\u001b[0m \u001b[0mself\u001b[0m\u001b[0;34m.\u001b[0m\u001b[0mdata\u001b[0m\u001b[0;34m.\u001b[0m\u001b[0mndim\u001b[0m \u001b[0;34m!=\u001b[0m \u001b[0;36m1\u001b[0m \u001b[0;32mor\u001b[0m \u001b[0mself\u001b[0m\u001b[0;34m.\u001b[0m\u001b[0mrow\u001b[0m\u001b[0;34m.\u001b[0m\u001b[0mndim\u001b[0m \u001b[0;34m!=\u001b[0m \u001b[0;36m1\u001b[0m \u001b[0;32mor\u001b[0m\u001b[0;31m \u001b[0m\u001b[0;31m\\\u001b[0m\u001b[0;34m\u001b[0m\u001b[0;34m\u001b[0m\u001b[0m\n\u001b[0m\u001b[1;32m    247\u001b[0m                     \u001b[0mself\u001b[0m\u001b[0;34m.\u001b[0m\u001b[0mcol\u001b[0m\u001b[0;34m.\u001b[0m\u001b[0mndim\u001b[0m \u001b[0;34m!=\u001b[0m \u001b[0;36m1\u001b[0m\u001b[0;34m:\u001b[0m\u001b[0;34m\u001b[0m\u001b[0;34m\u001b[0m\u001b[0m\n\u001b[1;32m    248\u001b[0m                 \u001b[0;32mraise\u001b[0m \u001b[0mValueError\u001b[0m\u001b[0;34m(\u001b[0m\u001b[0;34m'row, column, and data arrays must be 1-D'\u001b[0m\u001b[0;34m)\u001b[0m\u001b[0;34m\u001b[0m\u001b[0;34m\u001b[0m\u001b[0m\n",
      "\u001b[0;31mKeyboardInterrupt\u001b[0m: "
     ]
    }
   ],
   "source": [
    "# TEST DES H ET DES U\n",
    "\n",
    "#u_list = [1] # AJOUT\n",
    "\n",
    "#H_list = np.arange(100, 1000, 100)\n",
    "H_list = [101]\n",
    "#U_list = [0.40]\n",
    "\n",
    "\n",
    "if __name__ == '__main__':\n",
    "    for idx, row in data_list.iterrows():\n",
    "        print(\"\"\"\n",
    "        ####################################################################################### \n",
    "        #                                      Serie n: {}                                     #\n",
    "        #######################################################################################\n",
    "        \"\"\".format(set_params[\"nc\"])\n",
    "        )\n",
    "        set_params = data_list.iloc[idx,:]\n",
    "        ref = pd.read_csv(\"graph{}.csv\".format(set_params[\"nc\"]))\n",
    "        #u_list = np.arange(set_params[\"U[m/s]\"]-set_params[\"U[m/s]\"]/1.05882353, set_params[\"U[m/s]\"]/2, 0.05)\n",
    "        \n",
    "        \n",
    "        #   \n",
    "        \n",
    "        for H_value in H_list: \n",
    "\n",
    "            print(\"################ H value: {} ################\".format(H_value))\n",
    "            cfg = yaml.safe_load(open('example.in.yaml', 'r'))\n",
    "            \n",
    "            #cfg[\"cable\"][\"h\"] = np.float(set_params[\"H[N]\"])\n",
    "            cfg[\"cable\"][\"h\"] = np.float(H_value)\n",
    "            \n",
    "            cfg[\"simulation\"][\"tf\"] = np.float(set_params[\"tf[s]\"])\n",
    "            \n",
    "            #cfg[\"wakeosc\"][\"u\"] = np.float(u_value)\n",
    "            #cfg[\"wakeosc\"][\"u\"] = np.float(set_params[\"U[m/s]\"])\n",
    "            cfg[\"wakeosc\"][\"u\"] = 2.15\n",
    "            \n",
    "            print(\"h value: \", cfg[\"cable\"][\"h\"], \" u value: \", cfg[\"wakeosc\"][\"u\"])\n",
    "\n",
    "            dfy, _ = simulation.run_cable_wakeosc(cfg)\n",
    "\n",
    "            #print(r2_score(ref['y/d'],simulation['y/d'][:-1]))\n",
    "            #print(mean_squared_error(ref['y/d'],simulation['y/d'][:-1])) # Moi qui ai testé\n",
    "\n",
    "            plt.figure(figsize = (20,5))\n",
    "            plt.plot(ref['time'], ref['y/d'], label = \"ref\")\n",
    "            plt.plot(dfy.index, dfy['s=0.250']/0.025, label = \"sim\")\n",
    "            plt.xlabel('time (s)')\n",
    "            plt.ylabel('y/d')\n",
    "\n",
    "            plt.legend()\n",
    "            plt.show() "
   ]
  },
  {
   "cell_type": "code",
   "execution_count": null,
   "metadata": {
    "scrolled": true
   },
   "outputs": [],
   "source": [
    "# U TEST\n",
    "u_list = np.arange(1, 8, 1)\n",
    "\n",
    "for u_value in u_list: \n",
    "\n",
    "    print(\"################ U value: {} ################\".format(u_value))\n",
    "    cfg = yaml.safe_load(open('example.in.yaml', 'r'))\n",
    "    #cfg[\"cable\"][\"h\"] = np.float(set_params[\"H[N]\"])\n",
    "    cfg[\"cable\"][\"tension\"] = float(set_params[\"H[N]\"])\n",
    "    cfg[\"simulation\"][\"tf\"] = float(set_params[\"tf[s]\"])\n",
    "    \n",
    "    \n",
    "    cfg[\"simulation\"][\"dt\"] = float(set_params[\"Dt[s]\"])\n",
    "    \n",
    "    \n",
    "    \n",
    "    print(\"h value: \", cfg[\"cable\"][\"h\"], \" tf value: \", cfg[\"simulation\"][\"tf\"])\n",
    "\n",
    "    cfg[\"wakeosc\"][\"u\"] = float(u_value)\n",
    "\n",
    "    dfy, _ = simulation.run_cable_wakeosc(cfg)\n",
    "\n",
    "    #print(r2_score(ref['y/d'],simulation['y/d'][:-1]))\n",
    "    #print(mean_squared_error(ref['y/d'],simulation['y/d'][:-1])) # Moi qui ai testé\n",
    "\n",
    "    plt.figure(figsize = (20,5))\n",
    "    plt.plot(ref['time'], ref['y/d'], label = \"ref\")\n",
    "    plt.plot(dfy.index, dfy['s=0.250']/0.025, label = \"sim\")\n",
    "    plt.xlabel('time (s)')\n",
    "    plt.ylabel('y/d')\n",
    "\n",
    "    plt.legend()\n",
    "    plt.show() "
   ]
  },
  {
   "cell_type": "code",
   "execution_count": 23,
   "metadata": {},
   "outputs": [
    {
     "name": "stdout",
     "output_type": "stream",
     "text": [
      "       nc  md     U      d     m  L    H     Nt      Dt       tf      ymax  \\\n",
      "0       1   2  1.86  0.025  1.57  1  500  46556  0.0004  18.6224  0.000071   \n",
      "1       1   2  1.86  0.025  1.57  1  500  46556  0.0004  18.6224  0.000071   \n",
      "2       1   2  1.86  0.025  1.57  1  500  46556  0.0004  18.6224  0.000071   \n",
      "3       1   2  1.86  0.025  1.57  1  500  46556  0.0004  18.6224  0.000071   \n",
      "4       1   2  1.86  0.025  1.57  1  500  46556  0.0004  18.6224  0.000071   \n",
      "...    ..  ..   ...    ...   ... ..  ...    ...     ...      ...       ...   \n",
      "93107   1   2  1.86  0.025  1.57  1  500  46556  0.0004  18.6224  0.000071   \n",
      "93108   1   2  1.86  0.025  1.57  1  500  46556  0.0004  18.6224  0.000071   \n",
      "93109   1   2  1.86  0.025  1.57  1  500  46556  0.0004  18.6224  0.000071   \n",
      "93110   1   2  1.86  0.025  1.57  1  500  46556  0.0004  18.6224  0.000071   \n",
      "93111   1   2  1.86  0.025  1.57  1  500  46556  0.0004  18.6224  0.000071   \n",
      "\n",
      "          time           y/d  \n",
      "0       0.0004 -3.925815e-13  \n",
      "1       0.0008 -1.232346e-12  \n",
      "2       0.0012 -4.230106e-11  \n",
      "3       0.0016 -1.158912e-10  \n",
      "4       0.0020 -1.886572e-10  \n",
      "...        ...           ...  \n",
      "93107  18.6208 -2.542907e-03  \n",
      "93108  18.6212 -2.510986e-03  \n",
      "93109  18.6216 -2.474014e-03  \n",
      "93110  18.6220 -2.432057e-03  \n",
      "93111  18.6224 -2.385189e-03  \n",
      "\n",
      "[93112 rows x 13 columns]\n"
     ]
    }
   ],
   "source": [
    "print(ref)"
   ]
  },
  {
   "cell_type": "code",
   "execution_count": 18,
   "metadata": {},
   "outputs": [
    {
     "name": "stdout",
     "output_type": "stream",
     "text": [
      "(949950, 13)\n"
     ]
    }
   ],
   "source": [
    "ref = pd.read_csv(\"graph{}.csv\".format(set_params[\"nc\"]))\n",
    "\n",
    "print(ref.shape)\n"
   ]
  },
  {
   "cell_type": "code",
   "execution_count": 19,
   "metadata": {},
   "outputs": [
    {
     "data": {
      "text/plain": [
       "nc                    7\n",
       "md                    2\n",
       "U[m/s]             2.23\n",
       "d[m]              0.025\n",
       "m[kg/m]            1.57\n",
       "L[m]                  1\n",
       "H[N]                500\n",
       "Nt                 4767\n",
       "Dt[s]            0.0004\n",
       "tf[s]            1.9068\n",
       "ymax[m]        0.000024\n",
       "filename    Data2.7.bin\n",
       "Name: 6, dtype: object"
      ]
     },
     "execution_count": 19,
     "metadata": {},
     "output_type": "execute_result"
    }
   ],
   "source": [
    "set_params"
   ]
  },
  {
   "cell_type": "code",
   "execution_count": 66,
   "metadata": {},
   "outputs": [
    {
     "name": "stdout",
     "output_type": "stream",
     "text": [
      "################ Dt value: 0.00013646660662135974 ################\n",
      "h value:  500.0  tf value:  40.0\n",
      " -- running 100.00%\n",
      "293112\n",
      "--------\n",
      "293113\n"
     ]
    },
    {
     "data": {
      "image/png": "[encoded data removed]",
      "text/plain": [
       "<Figure size 1440x360 with 1 Axes>"
      ]
     },
     "metadata": {
      "needs_background": "light"
     },
     "output_type": "display_data"
    }
   ],
   "source": [
    "# modif valeur dr, dt\n",
    "\n",
    "#set_params = data_list.iloc[5,:]\n",
    "set_params = data_list.iloc[1,:]\n",
    "\n",
    "\n",
    "#dr_list = [1e-5]\n",
    "dr_list = [cfg[\"simulation\"][\"tf\"] / len(ref)]\n",
    "\n",
    "ref = pd.read_csv(\"graph{}.csv\".format(set_params[\"nc\"]))\n",
    "\n",
    "for dr_value in dr_list: \n",
    "\n",
    "    print(\"################ Dt value: {} ################\".format(dr_value))\n",
    "    cfg = yaml.safe_load(open('example.in.yaml', 'r'))\n",
    "    #cfg[\"cable\"][\"h\"] = np.float(set_params[\"H[N]\"])\n",
    "    cfg[\"cable\"][\"tension\"] = float(set_params[\"H[N]\"])\n",
    "    cfg[\"simulation\"][\"tf\"] = float(set_params[\"tf[s]\"])\n",
    "    \n",
    "    #cfg[\"simulation\"][\"dt\"] =  0.0002 #float(set_params[\"Dt[s]\"])\n",
    "    #cfg[\"simulation\"][\"dt\"] =  1e-5\n",
    "    cfg[\"simulation\"][\"dt\"] = cfg[\"simulation\"][\"tf\"] / len(ref)\n",
    "    \n",
    "    \n",
    "    cfg[\"simulation\"][\"dr\"] = float(dr_value)\n",
    "    \n",
    "    \n",
    "    \n",
    "    print(\"h value: \", cfg[\"cable\"][\"h\"], \" tf value: \", cfg[\"simulation\"][\"tf\"])\n",
    "\n",
    "    cfg[\"wakeosc\"][\"u\"] = float(set_params[\"U[m/s]\"])\n",
    "\n",
    "    dfy, _ = simulation.run_cable_wakeosc(cfg)\n",
    "\n",
    "    #print(r2_score(ref['y/d'],simulation['y/d'][:-1]))\n",
    "    #print(mean_squared_error(ref['y/d'],simulation['y/d'][:-1])) # Moi qui ai testé\n",
    "    print(\"\")\n",
    "    print(len(ref['y/d']))\n",
    "    print(\"--------\")\n",
    "    print(len(dfy['s=0.250']))\n",
    "\n",
    "    plt.figure(figsize = (20,5))\n",
    "    plt.plot(ref['time'], ref['y/d'], label = \"ref\")\n",
    "    plt.plot(dfy.index, dfy['s=0.250']/0.025, label = \"sim\")\n",
    "    plt.xlabel('time (s)')\n",
    "    plt.ylabel('y/d')\n",
    "\n",
    "    plt.legend()\n",
    "    plt.show() "
   ]
  },
  {
   "cell_type": "code",
   "execution_count": null,
   "metadata": {},
   "outputs": [],
   "source": []
  },
  {
   "cell_type": "code",
   "execution_count": 20,
   "metadata": {},
   "outputs": [
    {
     "data": {
      "text/plain": [
       "0.375"
      ]
     },
     "execution_count": 20,
     "metadata": {},
     "output_type": "execute_result"
    }
   ],
   "source": [
    "y_true = [3, -0.5, 2, 7]\n",
    "y_pred = [2.5, 0.0, 2, 8]\n",
    "mean_squared_error(y_true, y_pred)"
   ]
  },
  {
   "cell_type": "markdown",
   "metadata": {},
   "source": [
    "<br> https://gist.github.com/sagarmainkar/41d135a04d7d3bc4098f0664fe20cf3c <br>"
   ]
  },
  {
   "cell_type": "markdown",
   "metadata": {},
   "source": [
    "<br> https://towardsdatascience.com/gradient-descent-in-python-a0d07285742f <br>"
   ]
  },
  {
   "cell_type": "code",
   "execution_count": 21,
   "metadata": {},
   "outputs": [],
   "source": [
    "def  cal_cost(prediction,y):\n",
    "    '''\n",
    "    \n",
    "    Calculates the cost for given X and Y. The following shows and example of a single dimensional X\n",
    "    theta = Vector of thetas \n",
    "    X     = Row of X's np.zeros((2,j))\n",
    "    y     = Actual y's np.zeros((2,1))\n",
    "    \n",
    "    where:\n",
    "        j is the no of features\n",
    "    '''\n",
    "    \n",
    "    m = len(y)\n",
    "    \n",
    "    #predictions = X.dot(u)\n",
    "    #cfg[\"wakeosc\"][\"u\"] = np.float(u)\n",
    "    #dfy, _ = simulation.run_cable_wakeosc(cfg)\n",
    "    cost = (1/2*m) * np.sum(np.square(prediction-y))\n",
    "    return cost"
   ]
  },
  {
   "cell_type": "code",
   "execution_count": 22,
   "metadata": {},
   "outputs": [],
   "source": [
    "def descente_gradient(u,learning_rate=0.01,iterations=100):\n",
    "    ref = pd.read_csv(\"graph{}.csv\".format(set_params[\"nc\"]))\n",
    "    '''\n",
    "    X    = Matrix of X with added bias units\n",
    "    y    = Vector of Y\n",
    "    theta=Vector of thetas np.random.randn(j,1)\n",
    "    learning_rate \n",
    "    iterations = no of iterations\n",
    "    \n",
    "    Returns the final theta vector and array of cost history over no of iterations\n",
    "    '''\n",
    "    y = ref['y/d']\n",
    "    m = len(y)\n",
    "    cost_history = np.zeros(iterations)\n",
    "    theta_history = np.zeros((iterations,2))\n",
    "    \n",
    "    cfg = yaml.safe_load(open('example.in.yaml', 'r'))\n",
    "    cfg[\"cable\"][\"h\"] = np.float(set_params[\"H[N]\"])\n",
    "    cfg[\"simulation\"][\"tf\"] = np.float(set_params[\"tf[s]\"])\n",
    "    \n",
    "    dfy, _ = simulation.run_cable_wakeosc(cfg)\n",
    "    prediction =  dfy['s=0.250'].values # vecteur numpy\n",
    "    prediction = np.append(prediction,np.zeros(m - len(prediction)))\n",
    "    \n",
    "    \n",
    "    \n",
    "    \n",
    "    \n",
    "    for it in range(iterations):\n",
    "        \n",
    "        #prediction = np.dot(X,u)\n",
    "        \n",
    "        \n",
    "        u= u -(1/m)*learning_rate*( prediction.T.dot((prediction - y))) # 1\n",
    "        print(\"-------\")\n",
    "        print(\"Valeur de u = \" + str(u))\n",
    "        \n",
    "        cfg = yaml.safe_load(open('example.in.yaml', 'r'))\n",
    "        cfg[\"cable\"][\"h\"] = np.float(set_params[\"H[N]\"])\n",
    "        cfg[\"simulation\"][\"tf\"] = np.float(set_params[\"tf[s]\"])\n",
    "        cfg[\"wakeosc\"][\"u\"] = np.float(u)\n",
    "        \n",
    "        dfy, _ = simulation.run_cable_wakeosc(cfg)\n",
    "        prediction =  dfy['s=0.250']\n",
    "        prediction = np.append(prediction,np.zeros(m - len(prediction)))\n",
    "        \n",
    "        theta_history[it,:] =u.T\n",
    "        cost_history[it]  = cal_cost(prediction,y)\n",
    "        print(\"---------------------------\")\n",
    "        print(cost_history[it])\n",
    "        \n",
    "        plt.figure(figsize = (20,5))\n",
    "        plt.plot(ref['time'], ref['y/d'], label = \"ref\")\n",
    "        #plt.plot(dfy.index, dfy['s=0.250']/0.025, label = \"sim\")\n",
    "        plt.plot(dfy.index, dfy['s=0.250'], label = \"sim\")\n",
    "        plt.xlabel('time (s)')\n",
    "        plt.ylabel('y/d')\n",
    "\n",
    "        plt.legend()\n",
    "        plt.show()\n",
    "        \n",
    "    return u, cost_history, theta_history"
   ]
  },
  {
   "cell_type": "code",
   "execution_count": null,
   "metadata": {
    "scrolled": true
   },
   "outputs": [],
   "source": [
    "lr =0.01\n",
    "n_iter = 1000\n",
    "u = 7\n",
    "\n",
    "#theta = np.random.randn(2,1)\n",
    "\n",
    "#X_b = np.c_[np.ones((len(X),1)),X]\n",
    "#theta,cost_history,theta_history = gradient_descent(X,y,theta,lr,n_iter)\n",
    "theta,cost_history,theta_history = descente_gradient(u,lr,n_iter)\n",
    "\n",
    "\n",
    "#print('Theta0:          {:0.3f},\\nTheta1:          {:0.3f}'.format(theta[0][0],theta[1][0]))\n",
    "#print('Final cost/MSE:  {:0.3f}'.format(cost_history[-1]))"
   ]
  },
  {
   "cell_type": "code",
   "execution_count": null,
   "metadata": {},
   "outputs": [],
   "source": [
    "# MA VERSION DE LA DESCENTE GRADIENT\n",
    "\n",
    "\n",
    "\n",
    "alpha=0.01\n",
    "\n",
    "x=0\n",
    "x_param = x\n",
    "\n",
    "nbremaxiter=1000\n",
    "nbiter=0\n",
    "\n",
    "epsilon=10 ** (- 5)\n",
    "\n",
    "fprime = 2 *(x - 2)\n",
    "\n",
    "Grad=fprime # Le gradient\n",
    "xx=[] # Mémoire des x, Chemin\n",
    "fx=[] # Memoire des fx\n",
    "\n",
    "while (nbiter <= nbremaxiter and abs(Grad) > epsilon):\n",
    "\n",
    "    fprime = 2 *(x - 2)\n",
    "\n",
    "    fx.append((x-2)**2) # Liste contenant les valeurs de fx\n",
    "\n",
    "\n",
    "    xx.append(x) # Liste contenant en mémoire les valeurs de x\n",
    "\n",
    "    x = x - (alpha*Grad)\n",
    "\n",
    "    Grad= fprime\n",
    "\n",
    "    nbiter=nbiter + 1\n",
    "    print(\"Epsilon = \" + str(epsilon) + \" || Grad = \" + str(Grad) + \" || Iter = \"  + str(nbiter) + \" || X = \" + str(x))\n",
    "\n",
    "print(\"-----------------------\")\n",
    "print(\"Options de l'algorithme : Alpha = \" + str(alpha) + \" || X = \" + str(x_param) + \" || Iterations = \" + str(nbremaxiter))\n",
    "print(\"Le minimum trouvé par l'algorithme est donc : \" + str(x) + \" en \" + str(nbiter) + \" iterations\")\n",
    "\n"
   ]
  }
 ],
 "metadata": {
  "kernelspec": {
   "display_name": "Python 3",
   "language": "python",
   "name": "python3"
  },
  "language_info": {
   "codemirror_mode": {
    "name": "ipython",
    "version": 3
   },
   "file_extension": ".py",
   "mimetype": "text/x-python",
   "name": "python",
   "nbconvert_exporter": "python",
   "pygments_lexer": "ipython3",
   "version": "3.8.5"
  }
 },
 "nbformat": 4,
 "nbformat_minor": 4
}
